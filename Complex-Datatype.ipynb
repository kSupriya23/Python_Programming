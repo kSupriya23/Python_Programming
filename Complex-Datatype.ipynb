{
 "cells": [
  {
   "cell_type": "markdown",
   "id": "ab11d6b1-6274-45e6-a194-a6043ebb0dcf",
   "metadata": {},
   "source": [
    "# Day 2 - 30DaysOfPython Challenge "
   ]
  },
  {
   "cell_type": "markdown",
   "id": "cf467122-393c-4fdc-9c52-4f879dc707bc",
   "metadata": {},
   "source": [
    "# Basic datatypes"
   ]
  },
  {
   "cell_type": "code",
   "execution_count": 19,
   "id": "d984b4ae-f770-4a24-bc65-401014fca94d",
   "metadata": {},
   "outputs": [
    {
     "name": "stdout",
     "output_type": "stream",
     "text": [
      "<class 'int'>\n"
     ]
    }
   ],
   "source": [
    "print(type(10))    #int"
   ]
  },
  {
   "cell_type": "code",
   "execution_count": 21,
   "id": "b9069588-da14-4bdb-abdd-5034c0e4c29f",
   "metadata": {},
   "outputs": [
    {
     "name": "stdout",
     "output_type": "stream",
     "text": [
      "<class 'float'>\n"
     ]
    }
   ],
   "source": [
    "print(type(10.3)) #float"
   ]
  },
  {
   "cell_type": "code",
   "execution_count": 23,
   "id": "23d1087b-043f-45bc-8f2e-05cd1ce127bd",
   "metadata": {},
   "outputs": [
    {
     "name": "stdout",
     "output_type": "stream",
     "text": [
      "<class 'str'>\n"
     ]
    }
   ],
   "source": [
    "print(type(\"10\")) #string"
   ]
  },
  {
   "cell_type": "code",
   "execution_count": 49,
   "id": "14025d39-6c84-4e21-8a0a-5726c9c43b87",
   "metadata": {},
   "outputs": [
    {
     "name": "stdout",
     "output_type": "stream",
     "text": [
      "<class 'complex'>\n"
     ]
    }
   ],
   "source": [
    "print(type(10 + 8j)) #complex"
   ]
  },
  {
   "cell_type": "code",
   "execution_count": 25,
   "id": "3683905f-5e4f-4252-b8e3-4c62afa6870c",
   "metadata": {},
   "outputs": [
    {
     "name": "stdout",
     "output_type": "stream",
     "text": [
      "<class 'str'>\n"
     ]
    }
   ],
   "source": [
    "print(type('test')) #string"
   ]
  },
  {
   "cell_type": "code",
   "execution_count": 27,
   "id": "53ae3fee-5ed2-4c67-a31f-3f2745d43df0",
   "metadata": {},
   "outputs": [
    {
     "name": "stdout",
     "output_type": "stream",
     "text": [
      "<class 'list'>\n"
     ]
    }
   ],
   "source": [
    "print(type([10, 20, 30])) #list"
   ]
  },
  {
   "cell_type": "code",
   "execution_count": 33,
   "id": "5a27090d-eac8-414b-8020-94a489b0cfb9",
   "metadata": {},
   "outputs": [
    {
     "name": "stdout",
     "output_type": "stream",
     "text": [
      "<class 'set'>\n"
     ]
    }
   ],
   "source": [
    "print(type({10, 20, 30}))   #set"
   ]
  },
  {
   "cell_type": "code",
   "execution_count": 63,
   "id": "642b258b-0e46-4595-a34c-693256c54e1b",
   "metadata": {},
   "outputs": [
    {
     "name": "stdout",
     "output_type": "stream",
     "text": [
      "<class 'tuple'>\n"
     ]
    }
   ],
   "source": [
    "print(type((10.3, 20.9, 30.6)) )  #tuple"
   ]
  },
  {
   "cell_type": "code",
   "execution_count": 47,
   "id": "c17d1acc-4cca-4768-93f6-6235a7af9c93",
   "metadata": {},
   "outputs": [
    {
     "name": "stdout",
     "output_type": "stream",
     "text": [
      "<class 'dict'>\n"
     ]
    }
   ],
   "source": [
    "print(type({'val1': 10, 'val2': 'priya', 'val3': 30.7})) #dictionary"
   ]
  },
  {
   "cell_type": "code",
   "execution_count": 57,
   "id": "877135c1-4845-4a77-99bd-17881a8416a1",
   "metadata": {},
   "outputs": [
    {
     "name": "stdout",
     "output_type": "stream",
     "text": [
      "<class 'bool'>\n"
     ]
    }
   ],
   "source": [
    "print(type(3 ==  3))  # boolean"
   ]
  },
  {
   "cell_type": "code",
   "execution_count": 75,
   "id": "0c8497ef-11ae-44f4-a901-61ffef1ce73e",
   "metadata": {},
   "outputs": [
    {
     "data": {
      "text/plain": [
       "2"
      ]
     },
     "execution_count": 75,
     "metadata": {},
     "output_type": "execute_result"
    }
   ],
   "source": [
    "True + True  # True =1 False = 0"
   ]
  },
  {
   "cell_type": "code",
   "execution_count": 67,
   "id": "1c0260bc-90b0-4e4d-ab48-3a370bdf4cd0",
   "metadata": {},
   "outputs": [
    {
     "data": {
      "text/plain": [
       "1"
      ]
     },
     "execution_count": 67,
     "metadata": {},
     "output_type": "execute_result"
    }
   ],
   "source": [
    "True + False "
   ]
  },
  {
   "cell_type": "code",
   "execution_count": 71,
   "id": "94abd500-19f6-4082-98bf-1d2b222be1d6",
   "metadata": {},
   "outputs": [
    {
     "data": {
      "text/plain": [
       "1"
      ]
     },
     "execution_count": 71,
     "metadata": {},
     "output_type": "execute_result"
    }
   ],
   "source": [
    "False + True\n"
   ]
  },
  {
   "cell_type": "code",
   "execution_count": 73,
   "id": "2504ec02-f8c6-4066-8e65-ff2b4101e969",
   "metadata": {},
   "outputs": [
    {
     "ename": "ZeroDivisionError",
     "evalue": "division by zero",
     "output_type": "error",
     "traceback": [
      "\u001b[0;31m---------------------------------------------------------------------------\u001b[0m",
      "\u001b[0;31mZeroDivisionError\u001b[0m                         Traceback (most recent call last)",
      "Cell \u001b[0;32mIn[73], line 1\u001b[0m\n\u001b[0;32m----> 1\u001b[0m \u001b[38;5;28;01mTrue\u001b[39;00m \u001b[38;5;241m/\u001b[39m \u001b[38;5;28;01mFalse\u001b[39;00m\n",
      "\u001b[0;31mZeroDivisionError\u001b[0m: division by zero"
     ]
    }
   ],
   "source": [
    "True / False   # Infinite in math - zero division error"
   ]
  },
  {
   "cell_type": "code",
   "execution_count": 77,
   "id": "d5570475-b0be-41e3-bc0a-feab14247747",
   "metadata": {},
   "outputs": [
    {
     "data": {
      "text/plain": [
       "0.0"
      ]
     },
     "execution_count": 77,
     "metadata": {},
     "output_type": "execute_result"
    }
   ],
   "source": [
    "False / True"
   ]
  },
  {
   "cell_type": "code",
   "execution_count": 79,
   "id": "38020e9e-1686-4d5b-93ab-9dd6bc8fcfad",
   "metadata": {},
   "outputs": [
    {
     "data": {
      "text/plain": [
       "1.0"
      ]
     },
     "execution_count": 79,
     "metadata": {},
     "output_type": "execute_result"
    }
   ],
   "source": [
    "True / True"
   ]
  },
  {
   "cell_type": "code",
   "execution_count": 81,
   "id": "00fce29f-c87d-4af1-8029-10b486dd3cc9",
   "metadata": {},
   "outputs": [
    {
     "ename": "ZeroDivisionError",
     "evalue": "division by zero",
     "output_type": "error",
     "traceback": [
      "\u001b[0;31m---------------------------------------------------------------------------\u001b[0m",
      "\u001b[0;31mZeroDivisionError\u001b[0m                         Traceback (most recent call last)",
      "Cell \u001b[0;32mIn[81], line 1\u001b[0m\n\u001b[0;32m----> 1\u001b[0m \u001b[38;5;28;01mFalse\u001b[39;00m \u001b[38;5;241m/\u001b[39m \u001b[38;5;28;01mFalse\u001b[39;00m\n",
      "\u001b[0;31mZeroDivisionError\u001b[0m: division by zero"
     ]
    }
   ],
   "source": [
    "False / False   # error - division by zero error\n"
   ]
  },
  {
   "cell_type": "code",
   "execution_count": 83,
   "id": "0353ab73-2c4b-48f2-b4d1-4ed063e575ef",
   "metadata": {},
   "outputs": [
    {
     "data": {
      "text/plain": [
       "1"
      ]
     },
     "execution_count": 83,
     "metadata": {},
     "output_type": "execute_result"
    }
   ],
   "source": [
    "True // True"
   ]
  },
  {
   "cell_type": "code",
   "execution_count": 85,
   "id": "d76ed48d-4c88-49bf-a93c-3aec5cda8927",
   "metadata": {},
   "outputs": [
    {
     "ename": "ZeroDivisionError",
     "evalue": "integer modulo by zero",
     "output_type": "error",
     "traceback": [
      "\u001b[0;31m---------------------------------------------------------------------------\u001b[0m",
      "\u001b[0;31mZeroDivisionError\u001b[0m                         Traceback (most recent call last)",
      "Cell \u001b[0;32mIn[85], line 1\u001b[0m\n\u001b[0;32m----> 1\u001b[0m \u001b[38;5;28;01mTrue\u001b[39;00m \u001b[38;5;241m%\u001b[39m \u001b[38;5;28;01mFalse\u001b[39;00m\n",
      "\u001b[0;31mZeroDivisionError\u001b[0m: integer modulo by zero"
     ]
    }
   ],
   "source": [
    "True % False    # Integer modulo by zero "
   ]
  },
  {
   "cell_type": "code",
   "execution_count": 87,
   "id": "20b53d48-ed32-42b6-bfbc-b7a353df82cb",
   "metadata": {},
   "outputs": [
    {
     "data": {
      "text/plain": [
       "0"
      ]
     },
     "execution_count": 87,
     "metadata": {},
     "output_type": "execute_result"
    }
   ],
   "source": [
    "True % True"
   ]
  },
  {
   "cell_type": "code",
   "execution_count": null,
   "id": "64cce37d-7a27-4ac7-9eea-100f06b2b894",
   "metadata": {},
   "outputs": [],
   "source": []
  },
  {
   "cell_type": "markdown",
   "id": "dbe54451-86aa-43db-bba9-4259d6108cf8",
   "metadata": {},
   "source": [
    "# Complex datatype"
   ]
  },
  {
   "cell_type": "code",
   "execution_count": 112,
   "id": "5ad1b739-21c9-4e05-b087-860e547b09c6",
   "metadata": {},
   "outputs": [
    {
     "data": {
      "text/plain": [
       "' Used in:\\n\\nScientific computing\\n\\nElectrical engineering (impedance, phasors)\\n\\nQuantum mechanics\\n\\nSignal processing '"
      ]
     },
     "execution_count": 112,
     "metadata": {},
     "output_type": "execute_result"
    }
   ],
   "source": [
    "# Syntax for data type complex = a + bj   - Only python has this datatype and used in math applications (Nasa appln etc..)\n",
    "''' Used in:\n",
    "\n",
    "1. Scientific computing\n",
    "\n",
    "2. Electrical engineering (impedance, phasors)\n",
    "\n",
    "3. Quantum mechanics\n",
    "\n",
    "4. Signal processing '''"
   ]
  },
  {
   "cell_type": "markdown",
   "id": "c9c13ac2-3b76-4ea1-837c-bd1b5fce3a10",
   "metadata": {},
   "source": [
    "a = real part\n",
    "b = imaginary part\n",
    "j = sqrt of -1"
   ]
  },
  {
   "cell_type": "code",
   "execution_count": 116,
   "id": "913aec08-8222-432b-9904-2772dcc2edb7",
   "metadata": {},
   "outputs": [
    {
     "data": {
      "text/plain": [
       "(10+20j)"
      ]
     },
     "execution_count": 116,
     "metadata": {},
     "output_type": "execute_result"
    }
   ],
   "source": [
    "c1 = 10 + 20j \n",
    "c2 = 20 + 30j\n",
    "c1\n"
   ]
  },
  {
   "cell_type": "code",
   "execution_count": 102,
   "id": "f5adf60d-3bfc-4414-b8c3-2f12d971a2b4",
   "metadata": {},
   "outputs": [
    {
     "data": {
      "text/plain": [
       "complex"
      ]
     },
     "execution_count": 102,
     "metadata": {},
     "output_type": "execute_result"
    }
   ],
   "source": [
    "type(c1)"
   ]
  },
  {
   "cell_type": "code",
   "execution_count": 104,
   "id": "08f637ed-d623-4ca5-859e-06c5f84799bd",
   "metadata": {},
   "outputs": [
    {
     "data": {
      "text/plain": [
       "10.0"
      ]
     },
     "execution_count": 104,
     "metadata": {},
     "output_type": "execute_result"
    }
   ],
   "source": [
    "#print only real part of complex type\n",
    "c1.real"
   ]
  },
  {
   "cell_type": "code",
   "execution_count": 110,
   "id": "ec535057-abbf-42d3-a21f-8e65222c6a8b",
   "metadata": {},
   "outputs": [
    {
     "data": {
      "text/plain": [
       "20.0"
      ]
     },
     "execution_count": 110,
     "metadata": {},
     "output_type": "execute_result"
    }
   ],
   "source": [
    "c1.imag  # print imaginary part of complex type"
   ]
  },
  {
   "cell_type": "code",
   "execution_count": 108,
   "id": "fffaf1ce-ce13-402f-8f92-82d428ab56fa",
   "metadata": {},
   "outputs": [
    {
     "data": {
      "text/plain": [
       "<function complex.conjugate()>"
      ]
     },
     "execution_count": 108,
     "metadata": {},
     "output_type": "execute_result"
    }
   ],
   "source": [
    "c1.conjugate"
   ]
  },
  {
   "cell_type": "code",
   "execution_count": 124,
   "id": "f7a4022f-e97c-4d02-849c-cbb3e30d40d2",
   "metadata": {},
   "outputs": [
    {
     "data": {
      "text/plain": [
       "(30+50j)"
      ]
     },
     "execution_count": 124,
     "metadata": {},
     "output_type": "execute_result"
    }
   ],
   "source": [
    "c1 + c2  # phython is a dynamic programming language and it know that it has to had real part of c1 to real part of c2 same with imaginary part of c1 is added to imaginary part of c2"
   ]
  },
  {
   "cell_type": "code",
   "execution_count": 120,
   "id": "4a21bc25-3359-49f3-a6bc-6b10af15a7a5",
   "metadata": {},
   "outputs": [
    {
     "data": {
      "text/plain": [
       "(-10-10j)"
      ]
     },
     "execution_count": 120,
     "metadata": {},
     "output_type": "execute_result"
    }
   ],
   "source": [
    "c1 - c2 "
   ]
  },
  {
   "cell_type": "code",
   "execution_count": 122,
   "id": "1ff26ad2-575b-4b41-b0e9-54867d0f8973",
   "metadata": {},
   "outputs": [
    {
     "data": {
      "text/plain": [
       "(10+10j)"
      ]
     },
     "execution_count": 122,
     "metadata": {},
     "output_type": "execute_result"
    }
   ],
   "source": [
    "c2 - c1"
   ]
  },
  {
   "cell_type": "code",
   "execution_count": 132,
   "id": "93ca7b4f-ce8f-476d-a7cc-5df8474510c5",
   "metadata": {},
   "outputs": [
    {
     "data": {
      "text/plain": [
       "(-400+700j)"
      ]
     },
     "execution_count": 132,
     "metadata": {},
     "output_type": "execute_result"
    }
   ],
   "source": [
    "c1 * c2  \n",
    "\n",
    "''' ****  Break down ***** \n",
    "   (10 + 20j) X (20 + 30j) \n",
    "   (10 * 20) + (10 * 30j) + (20j * 20) + (20j * 30j)\n",
    "        200  + 300j       + 400j       + 600j2 => 600(-1) = -600 because j2 = -1\n",
    "        now add up all \n",
    "        200+300j+400j−600=(200−600)+(300j+400j)=−400+700j '''\n",
    "c1 * c2  "
   ]
  },
  {
   "cell_type": "code",
   "execution_count": null,
   "id": "c2cfe3f1-4368-46b9-861a-8f411658d1b1",
   "metadata": {},
   "outputs": [],
   "source": []
  }
 ],
 "metadata": {
  "kernelspec": {
   "display_name": "Python [conda env:base] *",
   "language": "python",
   "name": "conda-base-py"
  },
  "language_info": {
   "codemirror_mode": {
    "name": "ipython",
    "version": 3
   },
   "file_extension": ".py",
   "mimetype": "text/x-python",
   "name": "python",
   "nbconvert_exporter": "python",
   "pygments_lexer": "ipython3",
   "version": "3.12.7"
  }
 },
 "nbformat": 4,
 "nbformat_minor": 5
}
