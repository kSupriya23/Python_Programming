{
 "cells": [
  {
   "cell_type": "markdown",
   "id": "8ebab770-f1d1-46c2-8787-5c3fb373e4c3",
   "metadata": {},
   "source": [
    "# Variables in Python"
   ]
  },
  {
   "cell_type": "code",
   "execution_count": 9,
   "id": "d12fb759-76ab-48b9-9a27-5eb17c50cb78",
   "metadata": {},
   "outputs": [
    {
     "data": {
      "text/plain": [
       "'3.12.7 | packaged by Anaconda, Inc. | (main, Oct  4 2024, 08:28:27) [Clang 14.0.6 ]'"
      ]
     },
     "execution_count": 9,
     "metadata": {},
     "output_type": "execute_result"
    }
   ],
   "source": [
    "import sys\n",
    "sys.version"
   ]
  },
  {
   "cell_type": "code",
   "execution_count": 11,
   "id": "abe1bea9-dc04-4e3b-b5dd-4a4b686cc20e",
   "metadata": {},
   "outputs": [
    {
     "data": {
      "text/plain": [
       "8"
      ]
     },
     "execution_count": 11,
     "metadata": {},
     "output_type": "execute_result"
    }
   ],
   "source": [
    "3 + 5"
   ]
  },
  {
   "cell_type": "code",
   "execution_count": 13,
   "id": "38f704aa-4ce5-44c0-9ab5-9f424c32474b",
   "metadata": {},
   "outputs": [
    {
     "ename": "SyntaxError",
     "evalue": "invalid syntax (1549629267.py, line 1)",
     "output_type": "error",
     "traceback": [
      "\u001b[0;36m  Cell \u001b[0;32mIn[13], line 1\u001b[0;36m\u001b[0m\n\u001b[0;31m    3 + 6 -\u001b[0m\n\u001b[0m            ^\u001b[0m\n\u001b[0;31mSyntaxError\u001b[0m\u001b[0;31m:\u001b[0m invalid syntax\n"
     ]
    }
   ],
   "source": [
    "3 + 6 -  #Syntax error there is no operand after last operator"
   ]
  },
  {
   "cell_type": "code",
   "execution_count": 15,
   "id": "e70834f5-8b40-42f7-aca0-23f66788ea89",
   "metadata": {},
   "outputs": [
    {
     "data": {
      "text/plain": [
       "-3"
      ]
     },
     "execution_count": 15,
     "metadata": {},
     "output_type": "execute_result"
    }
   ],
   "source": [
    "6 - 9"
   ]
  },
  {
   "cell_type": "code",
   "execution_count": 17,
   "id": "c8d991a0-c340-488a-bcff-89c773e3e8aa",
   "metadata": {},
   "outputs": [
    {
     "data": {
      "text/plain": [
       "-3"
      ]
     },
     "execution_count": 17,
     "metadata": {},
     "output_type": "execute_result"
    }
   ],
   "source": [
    "3 + 6 - (7 + 5)  #BODMAS (Brackets, Order, Division, Multiplication, Addition, Substraction)"
   ]
  },
  {
   "cell_type": "code",
   "execution_count": 19,
   "id": "b977a837-cf3b-4387-9e0f-ddf0a243bd53",
   "metadata": {},
   "outputs": [
    {
     "data": {
      "text/plain": [
       "15"
      ]
     },
     "execution_count": 19,
     "metadata": {},
     "output_type": "execute_result"
    }
   ],
   "source": [
    "3 * 5 "
   ]
  },
  {
   "cell_type": "code",
   "execution_count": 21,
   "id": "4961ef23-c8ea-4f74-ae5b-ac44088d0ec2",
   "metadata": {},
   "outputs": [
    {
     "data": {
      "text/plain": [
       "27"
      ]
     },
     "execution_count": 21,
     "metadata": {},
     "output_type": "execute_result"
    }
   ],
   "source": [
    "3 ** 3 #(3 pow of 3)"
   ]
  },
  {
   "cell_type": "code",
   "execution_count": 23,
   "id": "65443c38-9971-4ff5-9833-aeecfbed0bd8",
   "metadata": {},
   "outputs": [
    {
     "data": {
      "text/plain": [
       "2.0"
      ]
     },
     "execution_count": 23,
     "metadata": {},
     "output_type": "execute_result"
    }
   ],
   "source": [
    "10 / 5  # float division"
   ]
  },
  {
   "cell_type": "code",
   "execution_count": 25,
   "id": "8eb3ef2a-7ea1-4ba1-99ad-347ae3b7ebf7",
   "metadata": {},
   "outputs": [
    {
     "data": {
      "text/plain": [
       "2"
      ]
     },
     "execution_count": 25,
     "metadata": {},
     "output_type": "execute_result"
    }
   ],
   "source": [
    "10 // 5 # Int division"
   ]
  },
  {
   "cell_type": "code",
   "execution_count": 181,
   "id": "349028b3-6c71-4bb4-b7aa-2e9ba6da9e83",
   "metadata": {},
   "outputs": [
    {
     "data": {
      "text/plain": [
       "0"
      ]
     },
     "execution_count": 181,
     "metadata": {},
     "output_type": "execute_result"
    }
   ],
   "source": [
    "10 % 5 "
   ]
  },
  {
   "cell_type": "code",
   "execution_count": 171,
   "id": "a9415357-5493-42b6-b983-b4b1651d0b19",
   "metadata": {},
   "outputs": [
    {
     "name": "stdout",
     "output_type": "stream",
     "text": [
      "10\n",
      "<class 'int'>\n",
      "28\n",
      "10  is integer ?  True\n"
     ]
    }
   ],
   "source": [
    "val1 = 10 \n",
    "print(val1)\n",
    "print(type(val1))\n",
    "print(sys.getsizeof(val1))\n",
    "print(val1, \" is of type integer ? \" , isinstance(val1 , int))"
   ]
  },
  {
   "cell_type": "code",
   "execution_count": 173,
   "id": "a43292f4-935f-4ae9-a4aa-043c51c86bc1",
   "metadata": {},
   "outputs": [
    {
     "name": "stdout",
     "output_type": "stream",
     "text": [
      "23.5\n",
      "<class 'float'>\n",
      "24\n",
      "23.5  is of type integer ?  False\n"
     ]
    }
   ],
   "source": [
    "val2 = 23.5\n",
    "print(val2)\n",
    "print(type(val2))\n",
    "print(sys.getsizeof(val2)) #size of float object in bytes\n",
    "print(val2, \" is of type integer ? \" , isinstance(val2 , int))  "
   ]
  },
  {
   "cell_type": "code",
   "execution_count": 175,
   "id": "a9d15dc2-810f-4110-83e1-a30ceda5d72e",
   "metadata": {},
   "outputs": [
    {
     "name": "stdout",
     "output_type": "stream",
     "text": [
      "priya\n",
      "<class 'str'>\n",
      "46\n",
      "priya is of type string ?  True\n"
     ]
    }
   ],
   "source": [
    "val3 = 'priya'\n",
    "print(val3)\n",
    "print(type(val3))\n",
    "print(sys.getsizeof(val3))\n",
    "print(val3, \"is of type string ? \", isinstance(val3, str))"
   ]
  },
  {
   "cell_type": "code",
   "execution_count": 179,
   "id": "e6cb38ee-1332-4bf5-8beb-e26a8b9b9eba",
   "metadata": {},
   "outputs": [
    {
     "name": "stdout",
     "output_type": "stream",
     "text": [
      "(20+10j)\n",
      "<class 'complex'>\n",
      "32\n",
      "(20+10j)  is complex type?  True\n"
     ]
    }
   ],
   "source": [
    "val4 = 20 + 10j\n",
    "print(val4)\n",
    "print(type(val4))\n",
    "print(sys.getsizeof(val4)) #size of complex in bytes\n",
    "print(val4, \" is complex type? \", isinstance(val4, complex))"
   ]
  },
  {
   "cell_type": "code",
   "execution_count": null,
   "id": "ac50b44d-3a71-4573-b5d7-67166d3cc3e7",
   "metadata": {},
   "outputs": [],
   "source": []
  },
  {
   "cell_type": "code",
   "execution_count": null,
   "id": "6ef2323d-709d-4a6a-989e-1fba96f266c1",
   "metadata": {},
   "outputs": [],
   "source": []
  },
  {
   "cell_type": "markdown",
   "id": "fd37f3e9-ce18-429b-ba28-2dc3f4a7c2ed",
   "metadata": {},
   "source": [
    "# Strings "
   ]
  },
  {
   "cell_type": "code",
   "execution_count": 29,
   "id": "d16c08f0-6532-4924-8546-c5080d95b5ca",
   "metadata": {},
   "outputs": [
    {
     "ename": "NameError",
     "evalue": "name 'priya' is not defined",
     "output_type": "error",
     "traceback": [
      "\u001b[0;31m---------------------------------------------------------------------------\u001b[0m",
      "\u001b[0;31mNameError\u001b[0m                                 Traceback (most recent call last)",
      "Cell \u001b[0;32mIn[29], line 1\u001b[0m\n\u001b[0;32m----> 1\u001b[0m priya\n",
      "\u001b[0;31mNameError\u001b[0m: name 'priya' is not defined"
     ]
    }
   ],
   "source": [
    "priya  # name error - Need single or double or triple quotes"
   ]
  },
  {
   "cell_type": "code",
   "execution_count": 31,
   "id": "5328effb-9bf9-4e54-b101-6874837ae525",
   "metadata": {},
   "outputs": [
    {
     "data": {
      "text/plain": [
       "'priya'"
      ]
     },
     "execution_count": 31,
     "metadata": {},
     "output_type": "execute_result"
    }
   ],
   "source": [
    "'priya'"
   ]
  },
  {
   "cell_type": "code",
   "execution_count": 33,
   "id": "1d0f987e-f627-4c55-ac5b-6f894b4feb7d",
   "metadata": {},
   "outputs": [
    {
     "data": {
      "text/plain": [
       "' priya '"
      ]
     },
     "execution_count": 33,
     "metadata": {},
     "output_type": "execute_result"
    }
   ],
   "source": [
    "\" priya \""
   ]
  },
  {
   "cell_type": "code",
   "execution_count": 37,
   "id": "d5d91ec5-4e30-4d7b-9221-0c7d0840d256",
   "metadata": {},
   "outputs": [
    {
     "data": {
      "text/plain": [
       "'priya'"
      ]
     },
     "execution_count": 37,
     "metadata": {},
     "output_type": "execute_result"
    }
   ],
   "source": [
    "'''priya'''"
   ]
  },
  {
   "cell_type": "markdown",
   "id": "36f3bfb9-a1c3-464a-9c60-e748d8301c97",
   "metadata": {},
   "source": [
    "# When to use which ? \n"
   ]
  },
  {
   "cell_type": "code",
   "execution_count": 40,
   "id": "de7818e6-2665-400c-8502-3242440d3077",
   "metadata": {},
   "outputs": [],
   "source": [
    "s1 = 'abc' \n",
    "s2 = \"abc\"    # Both represent single-line strings, and they are functionally identical.\n"
   ]
  },
  {
   "cell_type": "code",
   "execution_count": 42,
   "id": "031545ee-4f1b-4f7d-9aac-289234acdb00",
   "metadata": {},
   "outputs": [
    {
     "name": "stdout",
     "output_type": "stream",
     "text": [
      "True\n"
     ]
    }
   ],
   "source": [
    "print(s1 == s2)   "
   ]
  },
  {
   "cell_type": "code",
   "execution_count": 46,
   "id": "eb2c0c61-9f8c-4b8e-ae07-94e560229600",
   "metadata": {},
   "outputs": [
    {
     "data": {
      "text/plain": [
       "'He said \"Hello\"'"
      ]
     },
     "execution_count": 46,
     "metadata": {},
     "output_type": "execute_result"
    }
   ],
   "source": [
    "'He said \"Hello\"'  # Use 'abc' single quotes when string contains double quotes like - \"Hello\""
   ]
  },
  {
   "cell_type": "code",
   "execution_count": 48,
   "id": "31d19daa-aa40-4772-8828-663bc4c9bb11",
   "metadata": {},
   "outputs": [
    {
     "data": {
      "text/plain": [
       "\"it's Friday!\""
      ]
     },
     "execution_count": 48,
     "metadata": {},
     "output_type": "execute_result"
    }
   ],
   "source": [
    "\"it's Friday!\"  # Use \"abc\" double quotes when string contains single quotes like - it's"
   ]
  },
  {
   "cell_type": "code",
   "execution_count": 54,
   "id": "d9e55607-9d4b-4b15-bd44-4b8fce095e11",
   "metadata": {},
   "outputs": [
    {
     "data": {
      "text/plain": [
       "'abcabc'"
      ]
     },
     "execution_count": 54,
     "metadata": {},
     "output_type": "execute_result"
    }
   ],
   "source": [
    "'''abc'''  \"\"\"abc\"\"\"   # output : concatenates both strings 'abcabc'\n"
   ]
  },
  {
   "cell_type": "code",
   "execution_count": 60,
   "id": "a824f552-5726-4fe2-8d84-20b30c743e00",
   "metadata": {},
   "outputs": [],
   "source": [
    " # These are triple-quoted strings, mainly used for:\n",
    " # Multi-line strings\n",
    " # Docstrings (for functions, classes, modules)\n",
    "\n",
    "multi_line = ''' this is \n",
    "                   a multi-line\n",
    "                   string ... !'''"
   ]
  },
  {
   "cell_type": "code",
   "execution_count": 62,
   "id": "e110dbbb-4ba5-4fb1-a092-b8f0091af598",
   "metadata": {},
   "outputs": [
    {
     "data": {
      "text/plain": [
       "' this is \\n                  a multi-line\\n                  string ... !'"
      ]
     },
     "execution_count": 62,
     "metadata": {},
     "output_type": "execute_result"
    }
   ],
   "source": [
    "multi_line"
   ]
  },
  {
   "cell_type": "code",
   "execution_count": 207,
   "id": "b0d01ae5-ed76-49f7-8974-e1bb42d2e4c4",
   "metadata": {},
   "outputs": [],
   "source": [
    "mystr = 'woohoo ' "
   ]
  },
  {
   "cell_type": "code",
   "execution_count": 209,
   "id": "d689f353-08aa-43a2-851b-174e1c00a54a",
   "metadata": {},
   "outputs": [
    {
     "data": {
      "text/plain": [
       "'woohoo woohoo woohoo '"
      ]
     },
     "execution_count": 209,
     "metadata": {},
     "output_type": "execute_result"
    }
   ],
   "source": [
    "mystr1 = mystr*3\n",
    "mystr1"
   ]
  },
  {
   "cell_type": "code",
   "execution_count": 215,
   "id": "d7f1605c-2e68-46df-a62b-c800923d5817",
   "metadata": {},
   "outputs": [
    {
     "data": {
      "text/plain": [
       "21"
      ]
     },
     "execution_count": 215,
     "metadata": {},
     "output_type": "execute_result"
    }
   ],
   "source": [
    "len(mystr1)\n"
   ]
  },
  {
   "cell_type": "code",
   "execution_count": 217,
   "id": "39ffa9e1-7951-4cf9-9215-4440e9dada5d",
   "metadata": {},
   "outputs": [
    {
     "data": {
      "text/plain": [
       "7"
      ]
     },
     "execution_count": 217,
     "metadata": {},
     "output_type": "execute_result"
    }
   ],
   "source": [
    "len(mystr)"
   ]
  },
  {
   "cell_type": "code",
   "execution_count": 66,
   "id": "3d271ac0-9478-47bc-9b94-d199c935a4cd",
   "metadata": {},
   "outputs": [],
   "source": [
    "# A doc string is a short documentation or comment string that can use used to explain or comment what the code is doing. \n",
    "# it can used to document a module, class, fuction or method"
   ]
  },
  {
   "cell_type": "code",
   "execution_count": 68,
   "id": "2b14add2-fab1-491d-8dde-17f51e13a278",
   "metadata": {},
   "outputs": [],
   "source": [
    "def greet(name):\n",
    "    \"\"\"This function returns a greetings message with a given name. \"\"\"\n",
    "    return f\"Hello, {name}!\""
   ]
  },
  {
   "cell_type": "code",
   "execution_count": 74,
   "id": "c0bc00da-ca97-4244-b1bc-34c81dcc9e2e",
   "metadata": {},
   "outputs": [
    {
     "data": {
      "text/plain": [
       "'This function returns a greetings message with a given name. '"
      ]
     },
     "execution_count": 74,
     "metadata": {},
     "output_type": "execute_result"
    }
   ],
   "source": [
    "greet.__doc__"
   ]
  },
  {
   "cell_type": "code",
   "execution_count": 76,
   "id": "df2cb8ed-f584-41cb-a909-6f681a67b29e",
   "metadata": {},
   "outputs": [
    {
     "name": "stdout",
     "output_type": "stream",
     "text": [
      "This function returns a greetings message with a given name. \n"
     ]
    }
   ],
   "source": [
    "print(greet.__doc__)"
   ]
  },
  {
   "cell_type": "code",
   "execution_count": 70,
   "id": "f3a96e29-f1d8-4df8-9a7d-2a5c5154a59e",
   "metadata": {},
   "outputs": [
    {
     "name": "stdout",
     "output_type": "stream",
     "text": [
      "Hello, priya!\n"
     ]
    }
   ],
   "source": [
    "print(greet('priya'))"
   ]
  },
  {
   "cell_type": "code",
   "execution_count": 80,
   "id": "840620fb-48a9-4180-b9c4-bcef34f9c96c",
   "metadata": {},
   "outputs": [
    {
     "data": {
      "text/plain": [
       "' 1. defined using triple quotes.\\n    2. Placed immediately after a function, class or module declaration. \\n    3. Accessinle with .__doc__ attribute \\n    4. used for future reference, help() or maintaining clean code'"
      ]
     },
     "execution_count": 80,
     "metadata": {},
     "output_type": "execute_result"
    }
   ],
   "source": [
    "#Key points \n",
    "''' 1. defined using triple quotes.\n",
    "    2. Placed immediately after a function, class or module declaration. \n",
    "    3. Accessinle with .__doc__ attribute \n",
    "    4. used for future reference, help() or maintaining clean code'''"
   ]
  },
  {
   "cell_type": "code",
   "execution_count": 82,
   "id": "8133305b-bff2-4913-af9b-6fc37f2a1798",
   "metadata": {},
   "outputs": [
    {
     "name": "stdout",
     "output_type": "stream",
     "text": [
      "10\n"
     ]
    },
    {
     "data": {
      "text/plain": [
       "int"
      ]
     },
     "execution_count": 82,
     "metadata": {},
     "output_type": "execute_result"
    }
   ],
   "source": [
    "v = 10 \n",
    "print(v)\n",
    "type(v)"
   ]
  },
  {
   "cell_type": "code",
   "execution_count": 88,
   "id": "f1a6215f-698b-4665-8973-98315db34c7e",
   "metadata": {},
   "outputs": [
    {
     "data": {
      "text/plain": [
       "float"
      ]
     },
     "execution_count": 88,
     "metadata": {},
     "output_type": "execute_result"
    }
   ],
   "source": [
    "x = 1.5 \n",
    "type(x)"
   ]
  },
  {
   "cell_type": "code",
   "execution_count": 90,
   "id": "2ee4b41d-7750-4d1d-8b66-137bc1c6920b",
   "metadata": {},
   "outputs": [
    {
     "data": {
      "text/plain": [
       "str"
      ]
     },
     "execution_count": 90,
     "metadata": {},
     "output_type": "execute_result"
    }
   ],
   "source": [
    "s = 'priya'\n",
    "type(s)"
   ]
  },
  {
   "cell_type": "code",
   "execution_count": 92,
   "id": "151794b3-6e16-4fc8-b08b-1a8657e989e7",
   "metadata": {},
   "outputs": [],
   "source": [
    "x_train, y_train, x_test, y_test = 80, 90, 60, 70"
   ]
  },
  {
   "cell_type": "code",
   "execution_count": 100,
   "id": "faee57a5-5a38-42cf-beba-ec79fee37bc9",
   "metadata": {},
   "outputs": [
    {
     "name": "stdout",
     "output_type": "stream",
     "text": [
      "80\n",
      "60\n",
      "90\n",
      "70\n"
     ]
    }
   ],
   "source": [
    "print(x_train)\n",
    "print(x_test)\n",
    "print(y_train)\n",
    "print(y_test)\n"
   ]
  },
  {
   "cell_type": "code",
   "execution_count": 142,
   "id": "ae035521-3e48-4768-8ee7-45dd8649495e",
   "metadata": {},
   "outputs": [
    {
     "data": {
      "text/plain": [
       "(80, int, '0x105505d78')"
      ]
     },
     "execution_count": 142,
     "metadata": {},
     "output_type": "execute_result"
    }
   ],
   "source": [
    "x_train, type(x_test), hex(id(y_train)) # - hex(id(y_train)) variable y_train pointing to memory location 0x105505d78"
   ]
  },
  {
   "cell_type": "code",
   "execution_count": 148,
   "id": "967b150a-a733-4b21-9d51-ccd5b1994268",
   "metadata": {},
   "outputs": [],
   "source": [
    "p = 20      # p, q, r points to same mem location                  q \n",
    "q = 20      #                                                      | \n",
    "r = q       #                                                      |\n",
    "            #                                         p --------> 20 <----------- r"
   ]
  },
  {
   "cell_type": "code",
   "execution_count": 150,
   "id": "b5f27a39-8044-47e0-9286-c9dee101e54b",
   "metadata": {},
   "outputs": [
    {
     "data": {
      "text/plain": [
       "(20, int, '0x1055054b8')"
      ]
     },
     "execution_count": 150,
     "metadata": {},
     "output_type": "execute_result"
    }
   ],
   "source": [
    "p, type(p), hex(id(p))  # hex(id(p)) gives the mem location address"
   ]
  },
  {
   "cell_type": "code",
   "execution_count": 152,
   "id": "7c19546d-9bde-4779-a8b3-149e48bc3f3b",
   "metadata": {},
   "outputs": [
    {
     "data": {
      "text/plain": [
       "(20, int, '0x1055054b8')"
      ]
     },
     "execution_count": 152,
     "metadata": {},
     "output_type": "execute_result"
    }
   ],
   "source": [
    "q, type(q), hex(id(q))"
   ]
  },
  {
   "cell_type": "code",
   "execution_count": 154,
   "id": "1feeaa2e-f518-4021-886e-21a6c7461801",
   "metadata": {},
   "outputs": [
    {
     "data": {
      "text/plain": [
       "(20, int, '0x1055054b8')"
      ]
     },
     "execution_count": 154,
     "metadata": {},
     "output_type": "execute_result"
    }
   ],
   "source": [
    "r, type(r), hex(id(r))"
   ]
  },
  {
   "cell_type": "code",
   "execution_count": 160,
   "id": "0d88ced0-9dac-4756-a2d7-039e77984e39",
   "metadata": {},
   "outputs": [],
   "source": [
    "p1 = p2 = p3 = p4 = 40 "
   ]
  },
  {
   "cell_type": "code",
   "execution_count": 164,
   "id": "03b4c194-cb73-4943-a4f9-fa1cf2117901",
   "metadata": {},
   "outputs": [
    {
     "name": "stdout",
     "output_type": "stream",
     "text": [
      "40 40 40 40\n",
      "0x105505738 0x105505738 0x105505738 0x105505738\n"
     ]
    }
   ],
   "source": [
    "print(p1, p2, p3, p4)\n",
    "print(hex(id(p1)), hex(id(p2)), hex(id(p3)), hex(id(p4))) # all variables pointing to same memory location"
   ]
  },
  {
   "cell_type": "code",
   "execution_count": 156,
   "id": "e6c21610-a66e-4de8-b987-9661b7fda730",
   "metadata": {},
   "outputs": [
    {
     "data": {
      "text/plain": [
       "30"
      ]
     },
     "execution_count": 156,
     "metadata": {},
     "output_type": "execute_result"
    }
   ],
   "source": [
    "x = 20 \n",
    "x = x + 10  # variable overwriting\n",
    "x\n"
   ]
  },
  {
   "cell_type": "markdown",
   "id": "fe47e44c-f920-4a10-9b7f-955327af9a7a",
   "metadata": {},
   "source": [
    "# String Indexing"
   ]
  },
  {
   "cell_type": "code",
   "execution_count": 221,
   "id": "19e64ea6-f3fd-4882-8bb9-e36bab4e8f72",
   "metadata": {},
   "outputs": [],
   "source": [
    "str = \"Hello Python\""
   ]
  },
  {
   "cell_type": "code",
   "execution_count": 225,
   "id": "c63f8622-d802-456d-9632-cf172d79f8b3",
   "metadata": {},
   "outputs": [
    {
     "data": {
      "text/plain": [
       "' '"
      ]
     },
     "execution_count": 225,
     "metadata": {},
     "output_type": "execute_result"
    }
   ],
   "source": [
    "str[5] # index start from 0 - index of 5 is a white space"
   ]
  },
  {
   "cell_type": "code",
   "execution_count": 227,
   "id": "9ae308de-b786-4e66-a939-08d5bfca07b9",
   "metadata": {},
   "outputs": [
    {
     "data": {
      "text/plain": [
       "'y'"
      ]
     },
     "execution_count": 227,
     "metadata": {},
     "output_type": "execute_result"
    }
   ],
   "source": [
    "str[7]"
   ]
  },
  {
   "cell_type": "code",
   "execution_count": 229,
   "id": "df465d53-002c-4e6e-b193-102a5230a41e",
   "metadata": {},
   "outputs": [
    {
     "data": {
      "text/plain": [
       "'n'"
      ]
     },
     "execution_count": 229,
     "metadata": {},
     "output_type": "execute_result"
    }
   ],
   "source": [
    "str[-1] # last character in string str"
   ]
  },
  {
   "cell_type": "code",
   "execution_count": 231,
   "id": "e2b3e0d0-7e6a-4e58-aa2b-847d29c05382",
   "metadata": {},
   "outputs": [
    {
     "data": {
      "text/plain": [
       "12"
      ]
     },
     "execution_count": 231,
     "metadata": {},
     "output_type": "execute_result"
    }
   ],
   "source": [
    "len(str)"
   ]
  },
  {
   "cell_type": "code",
   "execution_count": 237,
   "id": "927863f8-0f80-43ca-9222-eefaf46effae",
   "metadata": {},
   "outputs": [
    {
     "data": {
      "text/plain": [
       "'n'"
      ]
     },
     "execution_count": 237,
     "metadata": {},
     "output_type": "execute_result"
    }
   ],
   "source": [
    "str[11]  # Forward indexing start from 0 to len(str)-1 retuns last letter of the string"
   ]
  },
  {
   "cell_type": "code",
   "execution_count": 241,
   "id": "d5adac3f-0d43-4c58-9b6c-b09c6a900dc6",
   "metadata": {},
   "outputs": [
    {
     "data": {
      "text/plain": [
       "'H'"
      ]
     },
     "execution_count": 241,
     "metadata": {},
     "output_type": "execute_result"
    }
   ],
   "source": [
    "str[-12]  # Backward indexing starts from -1 to lenth of string "
   ]
  },
  {
   "cell_type": "code",
   "execution_count": 245,
   "id": "3e545549-dcd9-4d53-8711-0270dfe8b325",
   "metadata": {},
   "outputs": [
    {
     "data": {
      "text/plain": [
       "'n'"
      ]
     },
     "execution_count": 245,
     "metadata": {},
     "output_type": "execute_result"
    }
   ],
   "source": [
    "str[len(str)-1]"
   ]
  },
  {
   "cell_type": "code",
   "execution_count": 249,
   "id": "a75ebfcd-9d8b-4ef9-8d59-ae4c8327814e",
   "metadata": {},
   "outputs": [
    {
     "data": {
      "text/plain": [
       "'lo Python'"
      ]
     },
     "execution_count": 249,
     "metadata": {},
     "output_type": "execute_result"
    }
   ],
   "source": [
    "str[3:] # return string from index 3 to end of string"
   ]
  },
  {
   "cell_type": "code",
   "execution_count": 251,
   "id": "e4524930-c50d-46e0-9be5-2919c6453d0d",
   "metadata": {},
   "outputs": [
    {
     "data": {
      "text/plain": [
       "'lo P'"
      ]
     },
     "execution_count": 251,
     "metadata": {},
     "output_type": "execute_result"
    }
   ],
   "source": [
    "str[3 : -5]  # return str from index 3 and stop at index -5"
   ]
  },
  {
   "cell_type": "code",
   "execution_count": 253,
   "id": "48e8ceb7-e49f-4ae0-ac9a-262bcffddd3e",
   "metadata": {},
   "outputs": [
    {
     "data": {
      "text/plain": [
       "'o Py'"
      ]
     },
     "execution_count": 253,
     "metadata": {},
     "output_type": "execute_result"
    }
   ],
   "source": [
    "str[4 : 8] #  starts from index 4 to 7 index 8 is skipped"
   ]
  },
  {
   "cell_type": "code",
   "execution_count": 259,
   "id": "a035aecf-f1b4-4def-bf41-279421601b6e",
   "metadata": {},
   "outputs": [
    {
     "data": {
      "text/plain": [
       "'Python'"
      ]
     },
     "execution_count": 259,
     "metadata": {},
     "output_type": "execute_result"
    }
   ],
   "source": [
    "str[-6 : ] "
   ]
  },
  {
   "cell_type": "code",
   "execution_count": 261,
   "id": "54371bfb-27eb-4662-9bb0-0d568b834626",
   "metadata": {},
   "outputs": [
    {
     "data": {
      "text/plain": [
       "'Hello'"
      ]
     },
     "execution_count": 261,
     "metadata": {},
     "output_type": "execute_result"
    }
   ],
   "source": [
    "str[ : 5] # reterive first 5 chars "
   ]
  },
  {
   "cell_type": "markdown",
   "id": "59828d41-c219-45db-9a73-c5d5a28c10a1",
   "metadata": {},
   "source": [
    "# update & Delete string"
   ]
  },
  {
   "cell_type": "code",
   "execution_count": 264,
   "id": "20e814c4-65c9-47f6-864c-6db104dd62ca",
   "metadata": {},
   "outputs": [
    {
     "ename": "TypeError",
     "evalue": "'str' object does not support item assignment",
     "output_type": "error",
     "traceback": [
      "\u001b[0;31m---------------------------------------------------------------------------\u001b[0m",
      "\u001b[0;31mTypeError\u001b[0m                                 Traceback (most recent call last)",
      "Cell \u001b[0;32mIn[264], line 1\u001b[0m\n\u001b[0;32m----> 1\u001b[0m \u001b[38;5;28mstr\u001b[39m[\u001b[38;5;241m0\u001b[39m:\u001b[38;5;241m4\u001b[39m] \u001b[38;5;241m=\u001b[39m \u001b[38;5;124m\"\u001b[39m\u001b[38;5;124mHeAA\u001b[39m\u001b[38;5;124m\"\u001b[39m\n",
      "\u001b[0;31mTypeError\u001b[0m: 'str' object does not support item assignment"
     ]
    }
   ],
   "source": [
    "str[0:4] = \"HeAA\" # Strings are immuatable meaning they cannot be changed once created"
   ]
  },
  {
   "cell_type": "code",
   "execution_count": 272,
   "id": "fb16c7b4-08c7-4d60-8b2a-ce46a0f247a2",
   "metadata": {},
   "outputs": [
    {
     "ename": "NameError",
     "evalue": "name 'str' is not defined",
     "output_type": "error",
     "traceback": [
      "\u001b[0;31m---------------------------------------------------------------------------\u001b[0m",
      "\u001b[0;31mNameError\u001b[0m                                 Traceback (most recent call last)",
      "Cell \u001b[0;32mIn[272], line 1\u001b[0m\n\u001b[0;32m----> 1\u001b[0m \u001b[38;5;28;01mdel\u001b[39;00m \u001b[38;5;28mstr\u001b[39m\n",
      "\u001b[0;31mNameError\u001b[0m: name 'str' is not defined"
     ]
    }
   ],
   "source": [
    "del str"
   ]
  },
  {
   "cell_type": "code",
   "execution_count": 274,
   "id": "d700ef99-1556-4bf9-aeb0-8af459897dbc",
   "metadata": {},
   "outputs": [
    {
     "name": "stdout",
     "output_type": "stream",
     "text": [
      "<class 'str'>\n"
     ]
    }
   ],
   "source": [
    "print(str)"
   ]
  },
  {
   "cell_type": "code",
   "execution_count": 280,
   "id": "2cdd5ed0-70ea-434c-bd19-f9d706b8964d",
   "metadata": {},
   "outputs": [],
   "source": [
    "str1 = 'Hello '\n",
    "str2 = \"Python\""
   ]
  },
  {
   "cell_type": "code",
   "execution_count": 282,
   "id": "6e88d436-68b1-49ad-a398-a9cefb00cf52",
   "metadata": {},
   "outputs": [
    {
     "name": "stdout",
     "output_type": "stream",
     "text": [
      "Hello Python\n"
     ]
    }
   ],
   "source": [
    "print(str1+str2)"
   ]
  },
  {
   "cell_type": "code",
   "execution_count": null,
   "id": "da463ec3-97a3-4ee0-b8f2-afaf69aa8dfd",
   "metadata": {},
   "outputs": [],
   "source": []
  },
  {
   "cell_type": "code",
   "execution_count": null,
   "id": "1202b003-c38a-40c7-ac82-9108854464bf",
   "metadata": {},
   "outputs": [],
   "source": []
  },
  {
   "cell_type": "code",
   "execution_count": 106,
   "id": "7e6e79fb-c78d-40c3-a2e2-f589e517f395",
   "metadata": {},
   "outputs": [
    {
     "data": {
      "text/plain": [
       "['False',\n",
       " 'None',\n",
       " 'True',\n",
       " 'and',\n",
       " 'as',\n",
       " 'assert',\n",
       " 'async',\n",
       " 'await',\n",
       " 'break',\n",
       " 'class',\n",
       " 'continue',\n",
       " 'def',\n",
       " 'del',\n",
       " 'elif',\n",
       " 'else',\n",
       " 'except',\n",
       " 'finally',\n",
       " 'for',\n",
       " 'from',\n",
       " 'global',\n",
       " 'if',\n",
       " 'import',\n",
       " 'in',\n",
       " 'is',\n",
       " 'lambda',\n",
       " 'nonlocal',\n",
       " 'not',\n",
       " 'or',\n",
       " 'pass',\n",
       " 'raise',\n",
       " 'return',\n",
       " 'try',\n",
       " 'while',\n",
       " 'with',\n",
       " 'yield']"
      ]
     },
     "execution_count": 106,
     "metadata": {},
     "output_type": "execute_result"
    }
   ],
   "source": [
    "import keyword\n",
    "\n",
    "keyword.kwlist"
   ]
  },
  {
   "cell_type": "code",
   "execution_count": 140,
   "id": "27107247-8c30-4b5e-9526-9029f6401034",
   "metadata": {},
   "outputs": [
    {
     "data": {
      "text/plain": [
       "35"
      ]
     },
     "execution_count": 140,
     "metadata": {},
     "output_type": "execute_result"
    }
   ],
   "source": [
    "len(keyword.kwlist)"
   ]
  },
  {
   "cell_type": "code",
   "execution_count": 110,
   "id": "6957f91b-da24-484d-9c03-783dd3b87425",
   "metadata": {},
   "outputs": [
    {
     "ename": "SyntaxError",
     "evalue": "invalid syntax (3964871498.py, line 1)",
     "output_type": "error",
     "traceback": [
      "\u001b[0;36m  Cell \u001b[0;32mIn[110], line 1\u001b[0;36m\u001b[0m\n\u001b[0;31m    if = 90\u001b[0m\n\u001b[0m       ^\u001b[0m\n\u001b[0;31mSyntaxError\u001b[0m\u001b[0;31m:\u001b[0m invalid syntax\n"
     ]
    }
   ],
   "source": [
    "if = 90\n",
    "if   # if is a keyword and cannot be used as a variable "
   ]
  },
  {
   "cell_type": "code",
   "execution_count": 114,
   "id": "fc371fbc-6f9e-44f0-b208-3df6dbde82ea",
   "metadata": {},
   "outputs": [
    {
     "name": "stdout",
     "output_type": "stream",
     "text": [
      "10 20 30\n"
     ]
    }
   ],
   "source": [
    "s1 = 10\n",
    "s2 = 20\n",
    "s3 = 30 \n",
    "print(s1, s2, s3)"
   ]
  },
  {
   "cell_type": "code",
   "execution_count": 124,
   "id": "0d904d3a-dabd-4459-9c73-aca8741dee85",
   "metadata": {},
   "outputs": [],
   "source": [
    "del s2"
   ]
  },
  {
   "cell_type": "code",
   "execution_count": 126,
   "id": "4622b4a7-798f-4368-907d-42605ad2a789",
   "metadata": {},
   "outputs": [
    {
     "ename": "NameError",
     "evalue": "name 's2' is not defined",
     "output_type": "error",
     "traceback": [
      "\u001b[0;31m---------------------------------------------------------------------------\u001b[0m",
      "\u001b[0;31mNameError\u001b[0m                                 Traceback (most recent call last)",
      "Cell \u001b[0;32mIn[126], line 1\u001b[0m\n\u001b[0;32m----> 1\u001b[0m \u001b[38;5;28mprint\u001b[39m(s1, s2, s3)\n",
      "\u001b[0;31mNameError\u001b[0m: name 's2' is not defined"
     ]
    }
   ],
   "source": [
    "print(s1, s2, s3)  # error because variable s2 is deleted "
   ]
  },
  {
   "cell_type": "code",
   "execution_count": 128,
   "id": "235d100f-f55c-40bc-a3f0-36d18c8b91e2",
   "metadata": {},
   "outputs": [
    {
     "name": "stdout",
     "output_type": "stream",
     "text": [
      "10 30\n"
     ]
    }
   ],
   "source": [
    "print(s1, s3)"
   ]
  },
  {
   "cell_type": "code",
   "execution_count": 132,
   "id": "5e9f9c08-d654-41c3-9b0e-d0674fa03dc1",
   "metadata": {},
   "outputs": [
    {
     "data": {
      "text/plain": [
       "bool"
      ]
     },
     "execution_count": 132,
     "metadata": {},
     "output_type": "execute_result"
    }
   ],
   "source": [
    "a = True\n",
    "type(a)"
   ]
  },
  {
   "cell_type": "code",
   "execution_count": 134,
   "id": "61e9f03c-229c-46ae-8984-d061e20d870f",
   "metadata": {},
   "outputs": [
    {
     "data": {
      "text/plain": [
       "str"
      ]
     },
     "execution_count": 134,
     "metadata": {},
     "output_type": "execute_result"
    }
   ],
   "source": [
    "b = 'true'\n",
    "type(b)"
   ]
  },
  {
   "cell_type": "code",
   "execution_count": 136,
   "id": "0833f6f8-442c-4ac5-bc0b-e3d61926aedd",
   "metadata": {},
   "outputs": [
    {
     "ename": "NameError",
     "evalue": "name 'true' is not defined",
     "output_type": "error",
     "traceback": [
      "\u001b[0;31m---------------------------------------------------------------------------\u001b[0m",
      "\u001b[0;31mNameError\u001b[0m                                 Traceback (most recent call last)",
      "Cell \u001b[0;32mIn[136], line 1\u001b[0m\n\u001b[0;32m----> 1\u001b[0m c \u001b[38;5;241m=\u001b[39m true \n\u001b[1;32m      2\u001b[0m \u001b[38;5;28mtype\u001b[39m(c)\n",
      "\u001b[0;31mNameError\u001b[0m: name 'true' is not defined"
     ]
    }
   ],
   "source": [
    "c = true  # error because Bool True /False (case sensitive) not true/false \n",
    "type(c)"
   ]
  },
  {
   "cell_type": "code",
   "execution_count": 183,
   "id": "c0c784e4-06db-4d31-bf82-b002077f3635",
   "metadata": {},
   "outputs": [
    {
     "data": {
      "text/plain": [
       "True"
      ]
     },
     "execution_count": 183,
     "metadata": {},
     "output_type": "execute_result"
    }
   ],
   "source": [
    "isinstance(a, bool)"
   ]
  },
  {
   "cell_type": "code",
   "execution_count": 185,
   "id": "548c83a3-a8d3-441f-a90b-3a8778ecf32b",
   "metadata": {},
   "outputs": [
    {
     "data": {
      "text/plain": [
       "False"
      ]
     },
     "execution_count": 185,
     "metadata": {},
     "output_type": "execute_result"
    }
   ],
   "source": [
    "isinstance(s1, bool)  # s1 int type declared above"
   ]
  },
  {
   "cell_type": "code",
   "execution_count": 187,
   "id": "e2d483c3-0739-47bd-a4b2-59afe9b7eaf6",
   "metadata": {},
   "outputs": [
    {
     "data": {
      "text/plain": [
       "False"
      ]
     },
     "execution_count": 187,
     "metadata": {},
     "output_type": "execute_result"
    }
   ],
   "source": [
    "bool(0)"
   ]
  },
  {
   "cell_type": "code",
   "execution_count": 189,
   "id": "14c00f87-fb25-4f5b-996c-2251d55cd70b",
   "metadata": {},
   "outputs": [
    {
     "data": {
      "text/plain": [
       "True"
      ]
     },
     "execution_count": 189,
     "metadata": {},
     "output_type": "execute_result"
    }
   ],
   "source": [
    "bool(1)"
   ]
  },
  {
   "cell_type": "code",
   "execution_count": 193,
   "id": "0fdef056-ad82-456d-b9b5-958bdb18e334",
   "metadata": {},
   "outputs": [
    {
     "data": {
      "text/plain": [
       "False"
      ]
     },
     "execution_count": 193,
     "metadata": {},
     "output_type": "execute_result"
    }
   ],
   "source": [
    "bool(None)"
   ]
  },
  {
   "cell_type": "code",
   "execution_count": 195,
   "id": "4a934be2-017c-4846-8b8f-b4f4c6ef7bc0",
   "metadata": {},
   "outputs": [
    {
     "data": {
      "text/plain": [
       "True"
      ]
     },
     "execution_count": 195,
     "metadata": {},
     "output_type": "execute_result"
    }
   ],
   "source": [
    "bool(True)"
   ]
  },
  {
   "cell_type": "code",
   "execution_count": 197,
   "id": "c8a4ac11-1536-4c27-88ef-638287b192df",
   "metadata": {},
   "outputs": [
    {
     "data": {
      "text/plain": [
       "False"
      ]
     },
     "execution_count": 197,
     "metadata": {},
     "output_type": "execute_result"
    }
   ],
   "source": [
    "bool(False)"
   ]
  },
  {
   "cell_type": "code",
   "execution_count": null,
   "id": "d2f8513d-09ed-4168-9b44-58e434f9b944",
   "metadata": {},
   "outputs": [],
   "source": []
  }
 ],
 "metadata": {
  "kernelspec": {
   "display_name": "Python [conda env:base] *",
   "language": "python",
   "name": "conda-base-py"
  },
  "language_info": {
   "codemirror_mode": {
    "name": "ipython",
    "version": 3
   },
   "file_extension": ".py",
   "mimetype": "text/x-python",
   "name": "python",
   "nbconvert_exporter": "python",
   "pygments_lexer": "ipython3",
   "version": "3.12.7"
  }
 },
 "nbformat": 4,
 "nbformat_minor": 5
}
