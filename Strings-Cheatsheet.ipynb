{
 "cells": [
  {
   "cell_type": "code",
   "execution_count": 125,
   "id": "bcbd3fea-3101-42b3-9d4d-21d0a617ab28",
   "metadata": {},
   "outputs": [],
   "source": [
    "s = \"hello\""
   ]
  },
  {
   "cell_type": "code",
   "execution_count": 127,
   "id": "a1c9edf9-6ee5-402c-acd2-14a6762ba819",
   "metadata": {},
   "outputs": [
    {
     "name": "stdout",
     "output_type": "stream",
     "text": [
      "hello\n"
     ]
    }
   ],
   "source": [
    "print(s)"
   ]
  },
  {
   "cell_type": "code",
   "execution_count": 133,
   "id": "c10a616f-beed-4d4d-b25c-582efe32a14d",
   "metadata": {},
   "outputs": [
    {
     "data": {
      "text/plain": [
       "'Hello'"
      ]
     },
     "execution_count": 133,
     "metadata": {},
     "output_type": "execute_result"
    }
   ],
   "source": [
    "s= s.capitalize()\n",
    "s"
   ]
  },
  {
   "cell_type": "code",
   "execution_count": 135,
   "id": "27a1073f-6be0-41ed-bc1b-ebc46dc02c80",
   "metadata": {},
   "outputs": [
    {
     "data": {
      "text/plain": [
       "'hello'"
      ]
     },
     "execution_count": 135,
     "metadata": {},
     "output_type": "execute_result"
    }
   ],
   "source": [
    "s.lower()"
   ]
  },
  {
   "cell_type": "code",
   "execution_count": 137,
   "id": "c427a990-91d3-4c2b-8a5d-ea66103049e2",
   "metadata": {},
   "outputs": [
    {
     "name": "stdout",
     "output_type": "stream",
     "text": [
      "Hello\n"
     ]
    }
   ],
   "source": [
    "print(s)"
   ]
  },
  {
   "cell_type": "code",
   "execution_count": 139,
   "id": "891698d7-5a91-4684-bf22-5fb00228f60a",
   "metadata": {},
   "outputs": [
    {
     "data": {
      "text/plain": [
       "'hELLO'"
      ]
     },
     "execution_count": 139,
     "metadata": {},
     "output_type": "execute_result"
    }
   ],
   "source": [
    "s.swapcase()"
   ]
  },
  {
   "cell_type": "code",
   "execution_count": 185,
   "id": "566404bc-b798-407e-a002-47f36752090f",
   "metadata": {},
   "outputs": [
    {
     "data": {
      "text/plain": [
       "'Hello'"
      ]
     },
     "execution_count": 185,
     "metadata": {},
     "output_type": "execute_result"
    }
   ],
   "source": [
    "s"
   ]
  },
  {
   "cell_type": "code",
   "execution_count": 189,
   "id": "7fa033c1-eb94-429a-90f6-6f5a2d06d00b",
   "metadata": {},
   "outputs": [
    {
     "data": {
      "text/plain": [
       "'Hello World'"
      ]
     },
     "execution_count": 189,
     "metadata": {},
     "output_type": "execute_result"
    }
   ],
   "source": [
    "s3= 'hello world'\n",
    "s3.title()"
   ]
  },
  {
   "cell_type": "code",
   "execution_count": 197,
   "id": "61d25556-ea5b-4a01-8c6a-57d96ab1f775",
   "metadata": {},
   "outputs": [
    {
     "data": {
      "text/plain": [
       "0"
      ]
     },
     "execution_count": 197,
     "metadata": {},
     "output_type": "execute_result"
    }
   ],
   "source": [
    "s.count(s3)"
   ]
  },
  {
   "cell_type": "code",
   "execution_count": 141,
   "id": "69bb558b-ef5b-44eb-a370-7056055a660a",
   "metadata": {},
   "outputs": [
    {
     "data": {
      "text/plain": [
       "'HELLO'"
      ]
     },
     "execution_count": 141,
     "metadata": {},
     "output_type": "execute_result"
    }
   ],
   "source": [
    "s.upper()"
   ]
  },
  {
   "cell_type": "code",
   "execution_count": 143,
   "id": "ee0f168e-1a37-4ccb-98a2-89cbd5175cdc",
   "metadata": {},
   "outputs": [
    {
     "data": {
      "text/plain": [
       "5"
      ]
     },
     "execution_count": 143,
     "metadata": {},
     "output_type": "execute_result"
    }
   ],
   "source": [
    "len(s)"
   ]
  },
  {
   "cell_type": "code",
   "execution_count": 145,
   "id": "30626fb5-767f-4b1e-ac32-0ec6e007aa88",
   "metadata": {},
   "outputs": [],
   "source": [
    "s2 = \"world\" "
   ]
  },
  {
   "cell_type": "code",
   "execution_count": 147,
   "id": "013edc13-dba9-4dfe-a8e6-a7da91eeb908",
   "metadata": {},
   "outputs": [
    {
     "data": {
      "text/plain": [
       "'H'"
      ]
     },
     "execution_count": 147,
     "metadata": {},
     "output_type": "execute_result"
    }
   ],
   "source": [
    "min(s)"
   ]
  },
  {
   "cell_type": "code",
   "execution_count": 149,
   "id": "6896c410-f6e3-43cc-9046-eccb7a861913",
   "metadata": {},
   "outputs": [
    {
     "data": {
      "text/plain": [
       "'o'"
      ]
     },
     "execution_count": 149,
     "metadata": {},
     "output_type": "execute_result"
    }
   ],
   "source": [
    "max(s)"
   ]
  },
  {
   "cell_type": "code",
   "execution_count": 151,
   "id": "e5ee0925-8e3f-4689-b614-7fd6ab4b3c9a",
   "metadata": {},
   "outputs": [
    {
     "data": {
      "text/plain": [
       "'d'"
      ]
     },
     "execution_count": 151,
     "metadata": {},
     "output_type": "execute_result"
    }
   ],
   "source": [
    "min(s2)"
   ]
  },
  {
   "cell_type": "code",
   "execution_count": 153,
   "id": "78b056ce-ff1a-433e-a667-f366b4abfe12",
   "metadata": {},
   "outputs": [
    {
     "data": {
      "text/plain": [
       "'w'"
      ]
     },
     "execution_count": 153,
     "metadata": {},
     "output_type": "execute_result"
    }
   ],
   "source": [
    "max(s2)"
   ]
  },
  {
   "cell_type": "code",
   "execution_count": 155,
   "id": "3e4aa5bc-1fa4-42ba-af7f-5be2f6817eb1",
   "metadata": {},
   "outputs": [
    {
     "data": {
      "text/plain": [
       "False"
      ]
     },
     "execution_count": 155,
     "metadata": {},
     "output_type": "execute_result"
    }
   ],
   "source": [
    "s in s2"
   ]
  },
  {
   "cell_type": "code",
   "execution_count": 157,
   "id": "8d986a0a-19b5-4bf1-ba5c-d1f5a35e6d61",
   "metadata": {},
   "outputs": [
    {
     "data": {
      "text/plain": [
       "True"
      ]
     },
     "execution_count": 157,
     "metadata": {},
     "output_type": "execute_result"
    }
   ],
   "source": [
    "s not in s2"
   ]
  },
  {
   "cell_type": "code",
   "execution_count": 159,
   "id": "c977bf73-fd60-4623-a737-97ec97c8a9a5",
   "metadata": {},
   "outputs": [
    {
     "data": {
      "text/plain": [
       "5"
      ]
     },
     "execution_count": 159,
     "metadata": {},
     "output_type": "execute_result"
    }
   ],
   "source": [
    "len(s2)"
   ]
  },
  {
   "cell_type": "code",
   "execution_count": 161,
   "id": "ce08d307-f58b-4fb3-ad8b-4094eb7dab2f",
   "metadata": {},
   "outputs": [
    {
     "data": {
      "text/plain": [
       "'Helloworld'"
      ]
     },
     "execution_count": 161,
     "metadata": {},
     "output_type": "execute_result"
    }
   ],
   "source": [
    "s + s2"
   ]
  },
  {
   "cell_type": "code",
   "execution_count": 163,
   "id": "b68f079b-9630-4161-8cac-53e12d5086d5",
   "metadata": {},
   "outputs": [
    {
     "data": {
      "text/plain": [
       "10"
      ]
     },
     "execution_count": 163,
     "metadata": {},
     "output_type": "execute_result"
    }
   ],
   "source": [
    "len(s+s2)"
   ]
  },
  {
   "cell_type": "code",
   "execution_count": 165,
   "id": "3465c32a-4f4c-43da-ac3d-dfa147e2c852",
   "metadata": {},
   "outputs": [
    {
     "data": {
      "text/plain": [
       "'HelloHello'"
      ]
     },
     "execution_count": 165,
     "metadata": {},
     "output_type": "execute_result"
    }
   ],
   "source": [
    "s*2"
   ]
  },
  {
   "cell_type": "code",
   "execution_count": 167,
   "id": "8ae7b62c-adb0-4aa4-9dff-f3f8af3d769e",
   "metadata": {},
   "outputs": [],
   "source": [
    "s3 = s + \" \" + s2"
   ]
  },
  {
   "cell_type": "code",
   "execution_count": 169,
   "id": "3628bcf2-647f-477c-be2e-ed68e1f04712",
   "metadata": {},
   "outputs": [
    {
     "name": "stdout",
     "output_type": "stream",
     "text": [
      "Hello world\n"
     ]
    }
   ],
   "source": [
    "print(s3)"
   ]
  },
  {
   "cell_type": "code",
   "execution_count": 171,
   "id": "45f18430-e8aa-4ece-92cc-e46df73d68ab",
   "metadata": {},
   "outputs": [],
   "source": [
    "first_name = 'priya' \n",
    "last_name = 'shetty'"
   ]
  },
  {
   "cell_type": "code",
   "execution_count": 173,
   "id": "6dd571e3-67ab-45a9-ab73-10f728969944",
   "metadata": {},
   "outputs": [],
   "source": [
    "country = 'USA'\n",
    "city = \"Dublin\"\n",
    "state = \"California\""
   ]
  },
  {
   "cell_type": "code",
   "execution_count": 175,
   "id": "75524faa-0e88-4e9f-9b81-206277c0faf3",
   "metadata": {},
   "outputs": [],
   "source": [
    "skills = ['.Net', 'Java', 'Python', 'Data Science']"
   ]
  },
  {
   "cell_type": "code",
   "execution_count": 181,
   "id": "5f6e26d7-fd94-4d57-8541-2e09b6ca6460",
   "metadata": {},
   "outputs": [],
   "source": [
    "person_info = {'firstname' : 'Priya', \n",
    "               'lastname' : 'shetty',\n",
    "               'age' : 40}\n"
   ]
  },
  {
   "cell_type": "code",
   "execution_count": 183,
   "id": "f4dccb57-bde5-46e9-aad6-72e747f6aba0",
   "metadata": {},
   "outputs": [
    {
     "data": {
      "text/plain": [
       "int"
      ]
     },
     "execution_count": 183,
     "metadata": {},
     "output_type": "execute_result"
    }
   ],
   "source": [
    "x = (5)\n",
    "type(x)"
   ]
  },
  {
   "cell_type": "code",
   "execution_count": 123,
   "id": "ab4b48cd-cf71-463b-a079-d7175f0543a8",
   "metadata": {},
   "outputs": [
    {
     "data": {
      "text/plain": [
       "tuple"
      ]
     },
     "execution_count": 123,
     "metadata": {},
     "output_type": "execute_result"
    }
   ],
   "source": [
    "y = (5, )  # A single value tuple is considered as int if you add a comma after the variable is considered as tuple\n",
    "type(y)"
   ]
  },
  {
   "cell_type": "code",
   "execution_count": 199,
   "id": "17be4334-5e87-424a-9819-bfb10586a723",
   "metadata": {},
   "outputs": [
    {
     "data": {
      "text/plain": [
       "'el ol'"
      ]
     },
     "execution_count": 199,
     "metadata": {},
     "output_type": "execute_result"
    }
   ],
   "source": [
    "s3[1::2]  # Hello World"
   ]
  },
  {
   "cell_type": "code",
   "execution_count": 201,
   "id": "9b583a1e-a76e-422d-a991-b7e4b8506a72",
   "metadata": {},
   "outputs": [
    {
     "data": {
      "text/plain": [
       "False"
      ]
     },
     "execution_count": 201,
     "metadata": {},
     "output_type": "execute_result"
    }
   ],
   "source": [
    "s.isspace()"
   ]
  },
  {
   "cell_type": "code",
   "execution_count": 203,
   "id": "b8dd1080-030e-48e2-9fdf-cb630a2de722",
   "metadata": {},
   "outputs": [
    {
     "data": {
      "text/plain": [
       "False"
      ]
     },
     "execution_count": 203,
     "metadata": {},
     "output_type": "execute_result"
    }
   ],
   "source": [
    "s3.isspace()  #Returns true if s3 contains only white spaces"
   ]
  },
  {
   "cell_type": "code",
   "execution_count": 205,
   "id": "050ed1d1-11f2-4b95-af2f-1ec07962efe1",
   "metadata": {},
   "outputs": [
    {
     "data": {
      "text/plain": [
       "True"
      ]
     },
     "execution_count": 205,
     "metadata": {},
     "output_type": "execute_result"
    }
   ],
   "source": [
    "s4 = \"    \"  \n",
    "s4.isspace()"
   ]
  },
  {
   "cell_type": "code",
   "execution_count": 215,
   "id": "b7481dc4-96e4-42d8-8e91-bc75e1b2de46",
   "metadata": {},
   "outputs": [
    {
     "data": {
      "text/plain": [
       "'  Hello   '"
      ]
     },
     "execution_count": 215,
     "metadata": {},
     "output_type": "execute_result"
    }
   ],
   "source": [
    "s.center(10)  # Its center the string in the 10 character width s.center(width)"
   ]
  },
  {
   "cell_type": "code",
   "execution_count": 217,
   "id": "03030921-63c4-4301-8982-a7d90fd6df39",
   "metadata": {},
   "outputs": [
    {
     "data": {
      "text/plain": [
       "'Hello  '"
      ]
     },
     "execution_count": 217,
     "metadata": {},
     "output_type": "execute_result"
    }
   ],
   "source": [
    "s.ljust(7)   # Left justifiy s with total size of width # 'hello'  => 'hello '"
   ]
  },
  {
   "cell_type": "code",
   "execution_count": 219,
   "id": "23a107a5-5830-4a12-ba3a-c149314bb769",
   "metadata": {},
   "outputs": [
    {
     "data": {
      "text/plain": [
       "'  Hello'"
      ]
     },
     "execution_count": 219,
     "metadata": {},
     "output_type": "execute_result"
    }
   ],
   "source": [
    "s.rjust(7)  # Right justify s with total size of width # 'hello' => ' hello'"
   ]
  },
  {
   "cell_type": "code",
   "execution_count": 221,
   "id": "3237f3e5-84c6-43b8-981e-c60a4bfd22cf",
   "metadata": {},
   "outputs": [
    {
     "data": {
      "text/plain": [
       "'Hello'"
      ]
     },
     "execution_count": 221,
     "metadata": {},
     "output_type": "execute_result"
    }
   ],
   "source": [
    "s.strip() # Remove leading and tailing spaces just like trim() in other languages like java"
   ]
  },
  {
   "cell_type": "markdown",
   "id": "06b8161f-4e90-416e-b9e4-93e3716cf316",
   "metadata": {},
   "source": [
    "# Find & Replace"
   ]
  },
  {
   "cell_type": "code",
   "execution_count": 301,
   "id": "aca91464-b38a-4144-9230-0bbaebe1c28e",
   "metadata": {},
   "outputs": [],
   "source": [
    "s5 = '123Hello123Hello123Hell0MyWorld'\n",
    "s6 = 'Hello'\n",
    "s7 = 'Hello123'\n",
    "s8 = '123456'\n",
    "s9 = 'TEST'\n",
    "s10 = '1234'"
   ]
  },
  {
   "cell_type": "code",
   "execution_count": 236,
   "id": "7270dc13-485d-420c-bed3-66a402e009ae",
   "metadata": {},
   "outputs": [
    {
     "data": {
      "text/plain": [
       "11"
      ]
     },
     "execution_count": 236,
     "metadata": {},
     "output_type": "execute_result"
    }
   ],
   "source": [
    "s5.index(s7, 5, 50) # Index of fitst occurence of s7 in s5 after 5th index and before 50th Index i.e s.index(s2, i, j)"
   ]
  },
  {
   "cell_type": "code",
   "execution_count": 240,
   "id": "f6ad1610-2ee5-4598-a055-ad2d6c52876c",
   "metadata": {},
   "outputs": [
    {
     "data": {
      "text/plain": [
       "3"
      ]
     },
     "execution_count": 240,
     "metadata": {},
     "output_type": "execute_result"
    }
   ],
   "source": [
    "s5.find(s7) # find and return lowest index of s7 in s5"
   ]
  },
  {
   "cell_type": "code",
   "execution_count": 242,
   "id": "0cfaabdc-4ec6-498e-839d-63fa22363674",
   "metadata": {},
   "outputs": [
    {
     "data": {
      "text/plain": [
       "'123HelloHelloHell0MyWorld'"
      ]
     },
     "execution_count": 242,
     "metadata": {},
     "output_type": "execute_result"
    }
   ],
   "source": [
    "s5.replace(s7, s6)  # in s5 replace s7 content with s6 "
   ]
  },
  {
   "cell_type": "code",
   "execution_count": 248,
   "id": "1ee2e303-7e86-4e50-bd1f-c6889e37f3cc",
   "metadata": {},
   "outputs": [
    {
     "data": {
      "text/plain": [
       "'123Hello123123Hello123123Hell0MyWorld'"
      ]
     },
     "execution_count": 248,
     "metadata": {},
     "output_type": "execute_result"
    }
   ],
   "source": [
    " s5.replace(s6,s7,5)  #  Replace s6 with s7 in s at most 5 times ex: s5.replace(s6, s7,count)"
   ]
  },
  {
   "cell_type": "code",
   "execution_count": 250,
   "id": "d7a35c64-fb5d-4f38-bd39-16da9ddacbf3",
   "metadata": {},
   "outputs": [
    {
     "data": {
      "text/plain": [
       "11"
      ]
     },
     "execution_count": 250,
     "metadata": {},
     "output_type": "execute_result"
    }
   ],
   "source": [
    "s5.rfind(s7) # Return highest index of s7 in s5"
   ]
  },
  {
   "cell_type": "code",
   "execution_count": 252,
   "id": "878d0b5a-20ba-420d-8bb7-d169b38edbf5",
   "metadata": {},
   "outputs": [
    {
     "data": {
      "text/plain": [
       "11"
      ]
     },
     "execution_count": 252,
     "metadata": {},
     "output_type": "execute_result"
    }
   ],
   "source": [
    "s5.rfind(s7) # Return lowest index of s7 in s5"
   ]
  },
  {
   "cell_type": "code",
   "execution_count": 260,
   "id": "f66d8808-984e-4305-a88e-6a05068717f1",
   "metadata": {},
   "outputs": [
    {
     "ename": "ValueError",
     "evalue": "substring not found",
     "output_type": "error",
     "traceback": [
      "\u001b[0;31m---------------------------------------------------------------------------\u001b[0m",
      "\u001b[0;31mValueError\u001b[0m                                Traceback (most recent call last)",
      "Cell \u001b[0;32mIn[260], line 1\u001b[0m\n\u001b[0;32m----> 1\u001b[0m s5\u001b[38;5;241m.\u001b[39mrindex(s8)\n",
      "\u001b[0;31mValueError\u001b[0m: substring not found"
     ]
    }
   ],
   "source": [
    "s5.rindex(s8) # Return highest index of s8 in s5 (raisebValueError if not found) ValueError: substring not found"
   ]
  },
  {
   "cell_type": "code",
   "execution_count": 262,
   "id": "43da6482-ce3a-43c8-8e07-eeb8e1a1d831",
   "metadata": {},
   "outputs": [
    {
     "data": {
      "text/plain": [
       "'123hello123hello123hell0myworld'"
      ]
     },
     "execution_count": 262,
     "metadata": {},
     "output_type": "execute_result"
    }
   ],
   "source": [
    "s5.casefold()  # Casefold s (aggressive lowercasing for caseless matching"
   ]
  },
  {
   "cell_type": "code",
   "execution_count": 270,
   "id": "1910e53f-ffa1-4c07-9a19-70456cce9709",
   "metadata": {},
   "outputs": [
    {
     "data": {
      "text/plain": [
       "'test'"
      ]
     },
     "execution_count": 270,
     "metadata": {},
     "output_type": "execute_result"
    }
   ],
   "source": [
    "s9.casefold()  "
   ]
  },
  {
   "cell_type": "code",
   "execution_count": 274,
   "id": "fc747b0e-23e7-45cf-9e5e-bf446a18c6b8",
   "metadata": {},
   "outputs": [
    {
     "data": {
      "text/plain": [
       "False"
      ]
     },
     "execution_count": 274,
     "metadata": {},
     "output_type": "execute_result"
    }
   ],
   "source": [
    "s9.islower()  # returns false as S9 is in upper case"
   ]
  },
  {
   "cell_type": "code",
   "execution_count": 278,
   "id": "6e7a09d7-d116-469c-9ac7-850dfeeed6bc",
   "metadata": {},
   "outputs": [
    {
     "data": {
      "text/plain": [
       "True"
      ]
     },
     "execution_count": 278,
     "metadata": {},
     "output_type": "execute_result"
    }
   ],
   "source": [
    "s9.casefold().islower()   # casefold converts to lowercase and then check isLower condition - returns TRUE"
   ]
  },
  {
   "cell_type": "code",
   "execution_count": 284,
   "id": "82450839-7588-4d74-a94b-4cb0b6d8eb06",
   "metadata": {},
   "outputs": [
    {
     "data": {
      "text/plain": [
       "False"
      ]
     },
     "execution_count": 284,
     "metadata": {},
     "output_type": "execute_result"
    }
   ],
   "source": [
    "s9.istitle()"
   ]
  },
  {
   "cell_type": "code",
   "execution_count": 286,
   "id": "ad7f8c86-8b36-45bc-9efb-7f4f648e44fa",
   "metadata": {},
   "outputs": [
    {
     "data": {
      "text/plain": [
       "True"
      ]
     },
     "execution_count": 286,
     "metadata": {},
     "output_type": "execute_result"
    }
   ],
   "source": [
    "s9.title().istitle()"
   ]
  },
  {
   "cell_type": "markdown",
   "id": "c1587634-27a7-4217-a910-4d1d4b075191",
   "metadata": {},
   "source": [
    "# Inspection"
   ]
  },
  {
   "cell_type": "code",
   "execution_count": 289,
   "id": "e687ccc4-f21d-4ed0-a4a8-8b41b6e4a08e",
   "metadata": {},
   "outputs": [
    {
     "data": {
      "text/plain": [
       "False"
      ]
     },
     "execution_count": 289,
     "metadata": {},
     "output_type": "execute_result"
    }
   ],
   "source": [
    "s5.endswith(s9)"
   ]
  },
  {
   "cell_type": "code",
   "execution_count": 293,
   "id": "2e55c7ca-04c7-4e9f-a63f-fd4b5459a5d0",
   "metadata": {},
   "outputs": [
    {
     "data": {
      "text/plain": [
       "True"
      ]
     },
     "execution_count": 293,
     "metadata": {},
     "output_type": "execute_result"
    }
   ],
   "source": [
    "s5.isalnum() # is string is alpha numeric"
   ]
  },
  {
   "cell_type": "code",
   "execution_count": 297,
   "id": "6db00b37-5e2a-4ea1-bc41-86cad36ecb5e",
   "metadata": {},
   "outputs": [
    {
     "data": {
      "text/plain": [
       "False"
      ]
     },
     "execution_count": 297,
     "metadata": {},
     "output_type": "execute_result"
    }
   ],
   "source": [
    "s5.isalpha()  # does the string contains all alphabets"
   ]
  },
  {
   "cell_type": "code",
   "execution_count": 307,
   "id": "003b28c1-3d77-4b38-b996-e3f73594ce42",
   "metadata": {},
   "outputs": [
    {
     "data": {
      "text/plain": [
       "False"
      ]
     },
     "execution_count": 307,
     "metadata": {},
     "output_type": "execute_result"
    }
   ],
   "source": [
    "s5.isdecimal()"
   ]
  },
  {
   "cell_type": "code",
   "execution_count": 309,
   "id": "a05a2b15-7c75-4ed7-9daa-8480797e5f8d",
   "metadata": {},
   "outputs": [
    {
     "data": {
      "text/plain": [
       "True"
      ]
     },
     "execution_count": 309,
     "metadata": {},
     "output_type": "execute_result"
    }
   ],
   "source": [
    "s10.isdecimal()"
   ]
  },
  {
   "cell_type": "code",
   "execution_count": 311,
   "id": "43f938fb-8bb3-4314-9e20-d96e043807ca",
   "metadata": {},
   "outputs": [
    {
     "data": {
      "text/plain": [
       "True"
      ]
     },
     "execution_count": 311,
     "metadata": {},
     "output_type": "execute_result"
    }
   ],
   "source": [
    "s10.isnumeric()"
   ]
  },
  {
   "cell_type": "code",
   "execution_count": 313,
   "id": "4c8417f5-f001-4d8d-80ce-d50d90c143e8",
   "metadata": {},
   "outputs": [
    {
     "data": {
      "text/plain": [
       "True"
      ]
     },
     "execution_count": 313,
     "metadata": {},
     "output_type": "execute_result"
    }
   ],
   "source": [
    "s7.startswith(s6)\n"
   ]
  },
  {
   "cell_type": "code",
   "execution_count": 318,
   "id": "19aa1a9d-3934-4706-9d0b-88e1855d72d8",
   "metadata": {},
   "outputs": [
    {
     "data": {
      "text/plain": [
       "'123Hello123Hello123Hell0MyWorld'"
      ]
     },
     "execution_count": 318,
     "metadata": {},
     "output_type": "execute_result"
    }
   ],
   "source": [
    "s5"
   ]
  },
  {
   "cell_type": "code",
   "execution_count": 356,
   "id": "4b726c45-e321-471d-bb51-61dccfdc05d7",
   "metadata": {},
   "outputs": [
    {
     "data": {
      "text/plain": [
       "True"
      ]
     },
     "execution_count": 356,
     "metadata": {},
     "output_type": "execute_result"
    }
   ],
   "source": [
    "s5.isprintable()  # Return true is s is printable"
   ]
  },
  {
   "cell_type": "markdown",
   "id": "edbeb611-1a22-42d1-a0d2-00a5781e2381",
   "metadata": {},
   "source": [
    "##### "
   ]
  },
  {
   "cell_type": "code",
   "execution_count": 359,
   "id": "0b1e3df7-e66e-4c3f-8e49-89c0589ad209",
   "metadata": {},
   "outputs": [
    {
     "data": {
      "text/plain": [
       "False"
      ]
     },
     "execution_count": 359,
     "metadata": {},
     "output_type": "execute_result"
    }
   ],
   "source": [
    "s5.isidentifier()  # Return true if s is a valid identifier"
   ]
  },
  {
   "cell_type": "code",
   "execution_count": 361,
   "id": "8c749ae0-1a26-4730-9554-80d0446bffd8",
   "metadata": {},
   "outputs": [
    {
     "data": {
      "text/plain": [
       "False"
      ]
     },
     "execution_count": 361,
     "metadata": {},
     "output_type": "execute_result"
    }
   ],
   "source": [
    "s.isdigit()"
   ]
  },
  {
   "cell_type": "code",
   "execution_count": 363,
   "id": "4eaef97b-b515-415a-bf3d-9e4391fafbaa",
   "metadata": {},
   "outputs": [
    {
     "data": {
      "text/plain": [
       "False"
      ]
     },
     "execution_count": 363,
     "metadata": {},
     "output_type": "execute_result"
    }
   ],
   "source": [
    "s7.endswith((s5, s6, s8))   # Return true if s ends with any of string tuple"
   ]
  },
  {
   "cell_type": "code",
   "execution_count": 365,
   "id": "b1b037fc-ae0b-4d0c-9b25-bf7fe36ae9ec",
   "metadata": {},
   "outputs": [
    {
     "data": {
      "text/plain": [
       "'Hell'"
      ]
     },
     "execution_count": 365,
     "metadata": {},
     "output_type": "execute_result"
    }
   ],
   "source": [
    "s5[3:7]"
   ]
  },
  {
   "cell_type": "code",
   "execution_count": null,
   "id": "488ab517-ba8b-4567-b403-d60c6ea953ed",
   "metadata": {},
   "outputs": [],
   "source": []
  },
  {
   "cell_type": "markdown",
   "id": "459469a4-ecb6-4b5c-85b4-6bfa1c5519c3",
   "metadata": {},
   "source": [
    "# Splitting"
   ]
  },
  {
   "cell_type": "code",
   "execution_count": 316,
   "id": "5b3ad4dd-1cff-440e-a83e-c15b2cbed54e",
   "metadata": {},
   "outputs": [
    {
     "data": {
      "text/plain": [
       "'A123Hello123Hello123Hell0MyWorldB123Hello123Hello123Hell0MyWorldC123Hello123Hello123Hell0MyWorldD'"
      ]
     },
     "execution_count": 316,
     "metadata": {},
     "output_type": "execute_result"
    }
   ],
   "source": [
    "s5.join('ABCD')"
   ]
  },
  {
   "cell_type": "code",
   "execution_count": 334,
   "id": "6c428639-fa4b-4325-96b2-a742ae3711b4",
   "metadata": {},
   "outputs": [
    {
     "data": {
      "text/plain": [
       "'123Hello123Hello123Hell0MyWorld'"
      ]
     },
     "execution_count": 334,
     "metadata": {},
     "output_type": "execute_result"
    }
   ],
   "source": [
    "s5"
   ]
  },
  {
   "cell_type": "code",
   "execution_count": 336,
   "id": "84d2f64e-a448-4002-81fa-aa16252238ed",
   "metadata": {},
   "outputs": [
    {
     "data": {
      "text/plain": [
       "('', '123', 'Hello123Hello123Hell0MyWorld')"
      ]
     },
     "execution_count": 336,
     "metadata": {},
     "output_type": "execute_result"
    }
   ],
   "source": [
    "s5.partition('123')  #  s.partition(sep)  Partition string at sep and return 3-tuple with part before, the sep itself, and part after "
   ]
  },
  {
   "cell_type": "code",
   "execution_count": 367,
   "id": "a890cd23-e129-4a08-8a2b-6254f57759ab",
   "metadata": {},
   "outputs": [
    {
     "data": {
      "text/plain": [
       "['', 'Hello', 'Hello', 'Hell0MyWorld']"
      ]
     },
     "execution_count": 367,
     "metadata": {},
     "output_type": "execute_result"
    }
   ],
   "source": [
    "s5.split('123', 5)  # Return list of s split by sep with leftmost maxsplits performed\n"
   ]
  },
  {
   "cell_type": "code",
   "execution_count": 369,
   "id": "37ab0ab1-46fc-4d0d-992b-92b32a31d41a",
   "metadata": {},
   "outputs": [
    {
     "data": {
      "text/plain": [
       "['', 'Hello', 'Hello', 'Hell0MyWorld']"
      ]
     },
     "execution_count": 369,
     "metadata": {},
     "output_type": "execute_result"
    }
   ],
   "source": [
    "s5.rsplit('123' , 5) #Return list of s split by sep with rightmost maxsplits performed sep string is not included in the output"
   ]
  },
  {
   "cell_type": "code",
   "execution_count": 373,
   "id": "8c21a3fd-a5c9-4470-bc3b-ae0b2ac06381",
   "metadata": {},
   "outputs": [
    {
     "data": {
      "text/plain": [
       "'Hello\\nWorld\\n123'"
      ]
     },
     "execution_count": 373,
     "metadata": {},
     "output_type": "execute_result"
    }
   ],
   "source": [
    "s10 = 'Hello\\nWorld\\n123'\n",
    "s10\n"
   ]
  },
  {
   "cell_type": "code",
   "execution_count": 375,
   "id": "7c28a1eb-580e-4665-97c2-f4f7f88c427d",
   "metadata": {},
   "outputs": [
    {
     "data": {
      "text/plain": [
       "['Hello', 'World', '123']"
      ]
     },
     "execution_count": 375,
     "metadata": {},
     "output_type": "execute_result"
    }
   ],
   "source": [
    "s10.splitlines()  # Return a list of lines in s # 'hello\\nworld' => ['hello', 'world']"
   ]
  },
  {
   "cell_type": "code",
   "execution_count": 387,
   "id": "a88832e2-008f-4308-afd2-a1368a5c850e",
   "metadata": {},
   "outputs": [
    {
     "data": {
      "text/plain": [
       "'***TEST***'"
      ]
     },
     "execution_count": 387,
     "metadata": {},
     "output_type": "execute_result"
    }
   ],
   "source": [
    "s9.center(10, '*')  # Center s with padding pad of width # 'hi' => 'padpadhipadpad'"
   ]
  },
  {
   "cell_type": "code",
   "execution_count": 389,
   "id": "41dcb52c-4b67-4520-95cb-80da0cd07c40",
   "metadata": {},
   "outputs": [
    {
     "data": {
      "text/plain": [
       "'TEST'"
      ]
     },
     "execution_count": 389,
     "metadata": {},
     "output_type": "execute_result"
    }
   ],
   "source": [
    "s9.strip()"
   ]
  },
  {
   "cell_type": "code",
   "execution_count": 391,
   "id": "4c4ae81d-6060-47cf-9d0b-4145982ebd14",
   "metadata": {},
   "outputs": [
    {
     "data": {
      "text/plain": [
       "' my test code      '"
      ]
     },
     "execution_count": 391,
     "metadata": {},
     "output_type": "execute_result"
    }
   ],
   "source": [
    "s11 = ' my test code      ' \n",
    "s11"
   ]
  },
  {
   "cell_type": "code",
   "execution_count": 395,
   "id": "2a7fce30-bd75-4180-b898-91ab72e31913",
   "metadata": {},
   "outputs": [
    {
     "data": {
      "text/plain": [
       "' my test code'"
      ]
     },
     "execution_count": 395,
     "metadata": {},
     "output_type": "execute_result"
    }
   ],
   "source": [
    "s11.rstrip()  # removes tailing whitespaces from string"
   ]
  },
  {
   "cell_type": "code",
   "execution_count": 397,
   "id": "e1cfd94f-7f9c-4f3b-ad29-4c5d8d495ffc",
   "metadata": {},
   "outputs": [
    {
     "data": {
      "text/plain": [
       "'Hello\\tworld'"
      ]
     },
     "execution_count": 397,
     "metadata": {},
     "output_type": "execute_result"
    }
   ],
   "source": [
    "s12 = 'Hello\\tworld' \n",
    "s12"
   ]
  },
  {
   "cell_type": "code",
   "execution_count": 401,
   "id": "0b18c112-a637-4e89-abdf-0f2ba9a0cb3a",
   "metadata": {},
   "outputs": [
    {
     "data": {
      "text/plain": [
       "'Hello   world'"
      ]
     },
     "execution_count": 401,
     "metadata": {},
     "output_type": "execute_result"
    }
   ],
   "source": [
    "s12.expandtabs()  # includes tab space"
   ]
  },
  {
   "cell_type": "code",
   "execution_count": null,
   "id": "e44ef9d8-c1b9-4864-a258-73975a4b4bff",
   "metadata": {},
   "outputs": [],
   "source": []
  }
 ],
 "metadata": {
  "kernelspec": {
   "display_name": "Python [conda env:base] *",
   "language": "python",
   "name": "conda-base-py"
  },
  "language_info": {
   "codemirror_mode": {
    "name": "ipython",
    "version": 3
   },
   "file_extension": ".py",
   "mimetype": "text/x-python",
   "name": "python",
   "nbconvert_exporter": "python",
   "pygments_lexer": "ipython3",
   "version": "3.12.7"
  }
 },
 "nbformat": 4,
 "nbformat_minor": 5
}
