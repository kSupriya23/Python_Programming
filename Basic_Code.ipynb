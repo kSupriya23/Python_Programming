{
 "cells": [
  {
   "cell_type": "markdown",
   "id": "ab11d6b1-6274-45e6-a194-a6043ebb0dcf",
   "metadata": {},
   "source": [
    "# Day 1 - 30DaysOfPython Challenge "
   ]
  },
  {
   "cell_type": "code",
   "execution_count": 2,
   "id": "f6c1a37e-ffbe-48d0-af72-162e0461c780",
   "metadata": {},
   "outputs": [
    {
     "name": "stdout",
     "output_type": "stream",
     "text": [
      "5\n"
     ]
    }
   ],
   "source": [
    "print(3+2)"
   ]
  },
  {
   "cell_type": "code",
   "execution_count": 4,
   "id": "c0287b47-c3b7-4f68-bf8a-3378b6f46b0d",
   "metadata": {},
   "outputs": [
    {
     "name": "stdout",
     "output_type": "stream",
     "text": [
      "1\n"
     ]
    }
   ],
   "source": [
    "print(3-2)"
   ]
  },
  {
   "cell_type": "code",
   "execution_count": 6,
   "id": "da8a0c28-990b-4a34-ab51-3bcae3bbf2e6",
   "metadata": {},
   "outputs": [
    {
     "name": "stdout",
     "output_type": "stream",
     "text": [
      "9\n"
     ]
    }
   ],
   "source": [
    "print(3 * 3)"
   ]
  },
  {
   "cell_type": "code",
   "execution_count": 8,
   "id": "9ee68179-dd0b-467f-b173-087e1e83ae99",
   "metadata": {},
   "outputs": [
    {
     "name": "stdout",
     "output_type": "stream",
     "text": [
      "27\n"
     ]
    }
   ],
   "source": [
    "print(3 ** 3)"
   ]
  },
  {
   "cell_type": "code",
   "execution_count": 10,
   "id": "cdf417e5-80db-4147-b662-8dd6c66b4fb5",
   "metadata": {},
   "outputs": [
    {
     "name": "stdout",
     "output_type": "stream",
     "text": [
      "1.5\n"
     ]
    }
   ],
   "source": [
    "print(3/2)"
   ]
  },
  {
   "cell_type": "code",
   "execution_count": 12,
   "id": "a444f4f2-1add-4b11-ba1a-b4600ad95398",
   "metadata": {},
   "outputs": [
    {
     "name": "stdout",
     "output_type": "stream",
     "text": [
      "1\n"
     ]
    }
   ],
   "source": [
    "print(3//2)# rounded to integer"
   ]
  },
  {
   "cell_type": "code",
   "execution_count": 14,
   "id": "be75eefa-cbc7-4117-acb9-d50c316406e3",
   "metadata": {},
   "outputs": [
    {
     "name": "stdout",
     "output_type": "stream",
     "text": [
      "1\n"
     ]
    }
   ],
   "source": [
    "print(3%2)"
   ]
  },
  {
   "cell_type": "markdown",
   "id": "cf467122-393c-4fdc-9c52-4f879dc707bc",
   "metadata": {},
   "source": [
    "# Check dataTypes"
   ]
  },
  {
   "cell_type": "code",
   "execution_count": 19,
   "id": "d984b4ae-f770-4a24-bc65-401014fca94d",
   "metadata": {},
   "outputs": [
    {
     "name": "stdout",
     "output_type": "stream",
     "text": [
      "<class 'int'>\n"
     ]
    }
   ],
   "source": [
    "print(type(10))    #int"
   ]
  },
  {
   "cell_type": "code",
   "execution_count": 21,
   "id": "b9069588-da14-4bdb-abdd-5034c0e4c29f",
   "metadata": {},
   "outputs": [
    {
     "name": "stdout",
     "output_type": "stream",
     "text": [
      "<class 'float'>\n"
     ]
    }
   ],
   "source": [
    "print(type(10.3)) #float"
   ]
  },
  {
   "cell_type": "code",
   "execution_count": 23,
   "id": "23d1087b-043f-45bc-8f2e-05cd1ce127bd",
   "metadata": {},
   "outputs": [
    {
     "name": "stdout",
     "output_type": "stream",
     "text": [
      "<class 'str'>\n"
     ]
    }
   ],
   "source": [
    "print(type(\"10\")) #string"
   ]
  },
  {
   "cell_type": "code",
   "execution_count": 49,
   "id": "14025d39-6c84-4e21-8a0a-5726c9c43b87",
   "metadata": {},
   "outputs": [
    {
     "name": "stdout",
     "output_type": "stream",
     "text": [
      "<class 'complex'>\n"
     ]
    }
   ],
   "source": [
    "print(type(10 + 8j)) #complex"
   ]
  },
  {
   "cell_type": "code",
   "execution_count": 25,
   "id": "3683905f-5e4f-4252-b8e3-4c62afa6870c",
   "metadata": {},
   "outputs": [
    {
     "name": "stdout",
     "output_type": "stream",
     "text": [
      "<class 'str'>\n"
     ]
    }
   ],
   "source": [
    "print(type('test')) #string"
   ]
  },
  {
   "cell_type": "code",
   "execution_count": 27,
   "id": "53ae3fee-5ed2-4c67-a31f-3f2745d43df0",
   "metadata": {},
   "outputs": [
    {
     "name": "stdout",
     "output_type": "stream",
     "text": [
      "<class 'list'>\n"
     ]
    }
   ],
   "source": [
    "print(type([10, 20, 30])) #list"
   ]
  },
  {
   "cell_type": "code",
   "execution_count": 33,
   "id": "5a27090d-eac8-414b-8020-94a489b0cfb9",
   "metadata": {},
   "outputs": [
    {
     "name": "stdout",
     "output_type": "stream",
     "text": [
      "<class 'set'>\n"
     ]
    }
   ],
   "source": [
    "print(type({10, 20, 30}))   #set"
   ]
  },
  {
   "cell_type": "code",
   "execution_count": 63,
   "id": "642b258b-0e46-4595-a34c-693256c54e1b",
   "metadata": {},
   "outputs": [
    {
     "name": "stdout",
     "output_type": "stream",
     "text": [
      "<class 'tuple'>\n"
     ]
    }
   ],
   "source": [
    "print(type((10.3, 20.9, 30.6)) )  #tuple"
   ]
  },
  {
   "cell_type": "code",
   "execution_count": 47,
   "id": "c17d1acc-4cca-4768-93f6-6235a7af9c93",
   "metadata": {},
   "outputs": [
    {
     "name": "stdout",
     "output_type": "stream",
     "text": [
      "<class 'dict'>\n"
     ]
    }
   ],
   "source": [
    "print(type({'val1': 10, 'val2': 'priya', 'val3': 30.7})) #dictionary"
   ]
  },
  {
   "cell_type": "code",
   "execution_count": 57,
   "id": "877135c1-4845-4a77-99bd-17881a8416a1",
   "metadata": {},
   "outputs": [
    {
     "name": "stdout",
     "output_type": "stream",
     "text": [
      "<class 'bool'>\n"
     ]
    }
   ],
   "source": [
    "print(type(3 ==  3))  # boolean"
   ]
  },
  {
   "cell_type": "code",
   "execution_count": null,
   "id": "0c8497ef-11ae-44f4-a901-61ffef1ce73e",
   "metadata": {},
   "outputs": [],
   "source": []
  },
  {
   "cell_type": "code",
   "execution_count": null,
   "id": "1c0260bc-90b0-4e4d-ab48-3a370bdf4cd0",
   "metadata": {},
   "outputs": [],
   "source": []
  }
 ],
 "metadata": {
  "kernelspec": {
   "display_name": "Python [conda env:base] *",
   "language": "python",
   "name": "conda-base-py"
  },
  "language_info": {
   "codemirror_mode": {
    "name": "ipython",
    "version": 3
   },
   "file_extension": ".py",
   "mimetype": "text/x-python",
   "name": "python",
   "nbconvert_exporter": "python",
   "pygments_lexer": "ipython3",
   "version": "3.12.7"
  }
 },
 "nbformat": 4,
 "nbformat_minor": 5
}
